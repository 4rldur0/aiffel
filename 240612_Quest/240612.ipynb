{
 "cells": [
  {
   "cell_type": "markdown",
   "id": "1a1b4d56",
   "metadata": {},
   "source": [
    "!ln -s ~/data/*.txt ~/aiffel/sentiment_classification/data"
   ]
  },
  {
   "cell_type": "markdown",
   "id": "a0c55b07",
   "metadata": {},
   "source": [
    "!ln -s ~/data/word2vec_ko.model* ~/aiffel/sentiment_classification/data"
   ]
  },
  {
   "cell_type": "markdown",
   "id": "bfbab3dc",
   "metadata": {},
   "source": [
    "# 프로젝트"
   ]
  },
  {
   "cell_type": "code",
   "execution_count": 29,
   "id": "20402aed",
   "metadata": {},
   "outputs": [
    {
     "name": "stdout",
     "output_type": "stream",
     "text": [
      "1.3.3\n",
      "0.5.2\n",
      "4.3.2\n"
     ]
    }
   ],
   "source": [
    "import pandas as pd\n",
    "import konlpy\n",
    "import gensim\n",
    "\n",
    "print(pd.__version__)\n",
    "print(konlpy.__version__)\n",
    "print(gensim.__version__)"
   ]
  },
  {
   "cell_type": "markdown",
   "id": "813a4414",
   "metadata": {},
   "source": [
    "## 1) 데이터 준비와 확인"
   ]
  },
  {
   "cell_type": "code",
   "execution_count": 30,
   "id": "635aef15",
   "metadata": {},
   "outputs": [
    {
     "data": {
      "text/html": [
       "<div>\n",
       "<style scoped>\n",
       "    .dataframe tbody tr th:only-of-type {\n",
       "        vertical-align: middle;\n",
       "    }\n",
       "\n",
       "    .dataframe tbody tr th {\n",
       "        vertical-align: top;\n",
       "    }\n",
       "\n",
       "    .dataframe thead th {\n",
       "        text-align: right;\n",
       "    }\n",
       "</style>\n",
       "<table border=\"1\" class=\"dataframe\">\n",
       "  <thead>\n",
       "    <tr style=\"text-align: right;\">\n",
       "      <th></th>\n",
       "      <th>id</th>\n",
       "      <th>document</th>\n",
       "      <th>label</th>\n",
       "    </tr>\n",
       "  </thead>\n",
       "  <tbody>\n",
       "    <tr>\n",
       "      <th>0</th>\n",
       "      <td>9976970</td>\n",
       "      <td>아 더빙.. 진짜 짜증나네요 목소리</td>\n",
       "      <td>0</td>\n",
       "    </tr>\n",
       "    <tr>\n",
       "      <th>1</th>\n",
       "      <td>3819312</td>\n",
       "      <td>흠...포스터보고 초딩영화줄....오버연기조차 가볍지 않구나</td>\n",
       "      <td>1</td>\n",
       "    </tr>\n",
       "    <tr>\n",
       "      <th>2</th>\n",
       "      <td>10265843</td>\n",
       "      <td>너무재밓었다그래서보는것을추천한다</td>\n",
       "      <td>0</td>\n",
       "    </tr>\n",
       "    <tr>\n",
       "      <th>3</th>\n",
       "      <td>9045019</td>\n",
       "      <td>교도소 이야기구먼 ..솔직히 재미는 없다..평점 조정</td>\n",
       "      <td>0</td>\n",
       "    </tr>\n",
       "    <tr>\n",
       "      <th>4</th>\n",
       "      <td>6483659</td>\n",
       "      <td>사이몬페그의 익살스런 연기가 돋보였던 영화!스파이더맨에서 늙어보이기만 했던 커스틴 ...</td>\n",
       "      <td>1</td>\n",
       "    </tr>\n",
       "  </tbody>\n",
       "</table>\n",
       "</div>"
      ],
      "text/plain": [
       "         id                                           document  label\n",
       "0   9976970                                아 더빙.. 진짜 짜증나네요 목소리      0\n",
       "1   3819312                  흠...포스터보고 초딩영화줄....오버연기조차 가볍지 않구나      1\n",
       "2  10265843                                  너무재밓었다그래서보는것을추천한다      0\n",
       "3   9045019                      교도소 이야기구먼 ..솔직히 재미는 없다..평점 조정      0\n",
       "4   6483659  사이몬페그의 익살스런 연기가 돋보였던 영화!스파이더맨에서 늙어보이기만 했던 커스틴 ...      1"
      ]
     },
     "execution_count": 30,
     "metadata": {},
     "output_type": "execute_result"
    }
   ],
   "source": [
    "train_data = pd.read_table('~/aiffel/sentiment_classification/data/ratings_train.txt')\n",
    "test_data = pd.read_table('~/aiffel/sentiment_classification/data/ratings_test.txt')\n",
    "\n",
    "train_data.head()"
   ]
  },
  {
   "cell_type": "markdown",
   "id": "f11c4cc2",
   "metadata": {},
   "source": [
    "## 2) 데이터로더 구성"
   ]
  },
  {
   "cell_type": "markdown",
   "id": "b2467d45",
   "metadata": {},
   "source": [
    "### 데이터로더의 기능 \n",
    "* 데이터의 중복 제거\n",
    "* NaN 결측치 제거\n",
    "* 한국어 토크나이저로 토큰화\n",
    "* 불용어(Stopwords) 제거\n",
    "* 사전 word_to_index 구성\n",
    "* 텍스트 스트링을 사전 인덱스 스트링으로 변환\n",
    "* X_train, y_train, X_test, y_test, word_to_index 리턴"
   ]
  },
  {
   "cell_type": "code",
   "execution_count": 31,
   "id": "77f9cd8c",
   "metadata": {},
   "outputs": [
    {
     "name": "stderr",
     "output_type": "stream",
     "text": [
      "/tmp/ipykernel_925/4017618643.py:32: VisibleDeprecationWarning: Creating an ndarray from ragged nested sequences (which is a list-or-tuple of lists-or-tuples-or ndarrays with different lengths or shapes) is deprecated. If you meant to do this, you must specify 'dtype=object' when creating the ndarray.\n",
      "  return np.array(sequences)\n"
     ]
    }
   ],
   "source": [
    "from konlpy.tag import Mecab\n",
    "import numpy as np\n",
    "from collections import Counter\n",
    "\n",
    "tokenizer = Mecab()\n",
    "stopwords = ['의','가','이','은','들','는','좀','잘','걍','과','도','를','으로','자','에','와','한','하다']\n",
    "\n",
    "def preprocess_text(texts, stopwords, tokenizer):\n",
    "    tokenized_texts = []\n",
    "    for text in texts:\n",
    "        tokens = tokenizer.morphs(text)\n",
    "        filtered_tokens = [word for word in tokens if word not in stopwords]\n",
    "        tokenized_texts.append(filtered_tokens)\n",
    "    return tokenized_texts\n",
    "\n",
    "def build_word_to_index(tokenized_texts, num_words):\n",
    "    all_words = [word for tokens in tokenized_texts for word in tokens]\n",
    "    word_freq = Counter(all_words)\n",
    "    common_words = word_freq.most_common(num_words-4)\n",
    "    word_to_index = {word: idx+4 for idx, (word, freq) in enumerate(common_words)}\n",
    "    word_to_index[\"<PAD>\"] = 0\n",
    "    word_to_index[\"<BOS>\"] = 1\n",
    "    word_to_index[\"<UNK>\"] = 2  # unknown\n",
    "    word_to_index[\"<UNUSED>\"] = 3\n",
    "    return word_to_index\n",
    "\n",
    "def texts_to_sequences(tokenized_texts, word_to_index):\n",
    "    sequences = []\n",
    "    for tokens in tokenized_texts:\n",
    "        sequence = [word_to_index.get(word, 0) for word in tokens]\n",
    "        sequences.append(sequence)\n",
    "    return np.array(sequences)\n",
    "\n",
    "def load_data(train_data, test_data, num_words=10000):\n",
    "    \n",
    "    # 데이터의 중복 제거\n",
    "    train_data.drop_duplicates(subset=['document'], inplace=True)\n",
    "    test_data.drop_duplicates(subset=['document'], inplace=True)\n",
    "\n",
    "    # NaN 결측치 제거\n",
    "    train_data = train_data.dropna(how = 'any') \n",
    "    test_data = test_data.dropna(how = 'any')\n",
    "    \n",
    "    # 한국어 토크나이저로 토큰화 & 불용어 제거\n",
    "    tokenized_train_texts = preprocess_text(train_data['document'], stopwords, tokenizer)\n",
    "    tokenized_test_texts = preprocess_text(test_data['document'], stopwords, tokenizer)\n",
    "    \n",
    "    # 사전 word_to_index 구성\n",
    "    word_to_index = build_word_to_index(tokenized_train_texts, num_words)\n",
    "    \n",
    "    X_train = texts_to_sequences(tokenized_train_texts, word_to_index)\n",
    "    X_test = texts_to_sequences(tokenized_test_texts, word_to_index)\n",
    "    \n",
    "    y_train = np.array(train_data['label'])\n",
    "    y_test = np.array(test_data['label'])\n",
    "    \n",
    "    return X_train, y_train, X_test, y_test, word_to_index\n",
    "\n",
    "X_train, y_train, X_test, y_test, word_to_index = load_data(train_data, test_data, 10000)"
   ]
  },
  {
   "cell_type": "code",
   "execution_count": 32,
   "id": "99ee1db2",
   "metadata": {},
   "outputs": [],
   "source": [
    "# Validation set 분할(10% of train set)\n",
    "\n",
    "from sklearn.model_selection import train_test_split\n",
    "\n",
    "X_train, X_val, y_train, y_val = train_test_split(X_train, y_train, test_size=0.1, shuffle=True, stratify=y_train, random_state=42)"
   ]
  },
  {
   "cell_type": "code",
   "execution_count": 33,
   "id": "ebdf6fe9",
   "metadata": {},
   "outputs": [],
   "source": [
    "index_to_word = {index:word for word, index in word_to_index.items()}"
   ]
  },
  {
   "cell_type": "code",
   "execution_count": 34,
   "id": "d8c52c22",
   "metadata": {},
   "outputs": [],
   "source": [
    "# 문장 1개를 활용할 딕셔너리와 함께 주면, 단어 인덱스 리스트 벡터로 변환해 주는 함수입니다. \n",
    "# 단, 모든 문장은 <BOS>로 시작하는 것으로 합니다. \n",
    "def get_encoded_sentence(sentence, word_to_index):\n",
    "    return [word_to_index['<BOS>']]+[word_to_index[word] if word in word_to_index else word_to_index['<UNK>'] for word in sentence.split()]\n",
    "\n",
    "# 여러 개의 문장 리스트를 한꺼번에 단어 인덱스 리스트 벡터로 encode해 주는 함수입니다. \n",
    "def get_encoded_sentences(sentences, word_to_index):\n",
    "    return [get_encoded_sentence(sentence, word_to_index) for sentence in sentences]\n",
    "\n",
    "# 숫자 벡터로 encode된 문장을 원래대로 decode하는 함수입니다. \n",
    "def get_decoded_sentence(encoded_sentence, index_to_word):\n",
    "    return ' '.join(index_to_word[index] if index in index_to_word else '<UNK>' for index in encoded_sentence[1:])  #[1:]를 통해 <BOS>를 제외\n",
    "\n",
    "# 여러 개의 숫자 벡터로 encode된 문장을 한꺼번에 원래대로 decode하는 함수입니다. \n",
    "def get_decoded_sentences(encoded_sentences, index_to_word):\n",
    "    return [get_decoded_sentence(encoded_sentence, index_to_word) for encoded_sentence in encoded_sentences]"
   ]
  },
  {
   "cell_type": "markdown",
   "id": "7d9461c4",
   "metadata": {},
   "source": [
    "## 3) 모델 구성을 위한 데이터 분석 및 가공"
   ]
  },
  {
   "cell_type": "markdown",
   "id": "7bbb5008",
   "metadata": {},
   "source": [
    "### 데이터셋 내 문장 길이 분포"
   ]
  },
  {
   "cell_type": "code",
   "execution_count": 35,
   "id": "82ad88a9",
   "metadata": {},
   "outputs": [
    {
     "name": "stdout",
     "output_type": "stream",
     "text": [
      "min: 0, max : 116\n"
     ]
    },
    {
     "data": {
      "image/png": "[encoded data removed]",
      "text/plain": [
       "<Figure size 432x288 with 1 Axes>"
      ]
     },
     "metadata": {
      "needs_background": "light"
     },
     "output_type": "display_data"
    }
   ],
   "source": [
    "from collections import Counter\n",
    "import matplotlib.pyplot as plt\n",
    "\n",
    "len_of_sentences = [len(x) for x in X_train]\n",
    "print(f'min: {min(len_of_sentences)}, max : {max(len_of_sentences)}')\n",
    "\n",
    "length_counts = Counter(len_of_sentences)\n",
    "\n",
    "x = list(length_counts.keys())\n",
    "y = list(length_counts.values())\n",
    "\n",
    "plt.bar(x, y, color='blue', edgecolor='black')\n",
    "plt.xlabel('Length of Sentences')\n",
    "plt.ylabel('Frequency')\n",
    "plt.title('Frequency of Different Sentence Lengths')\n",
    "plt.show()"
   ]
  },
  {
   "cell_type": "markdown",
   "id": "d83e7e8e",
   "metadata": {},
   "source": [
    "### 적절한 최대 문장 길이 지정"
   ]
  },
  {
   "cell_type": "code",
   "execution_count": 36,
   "id": "ad30c612",
   "metadata": {},
   "outputs": [],
   "source": [
    "# 첫번째 시도로 단순히 max length 값으로 지정\n",
    "maxlen = max(len_of_sentences)"
   ]
  },
  {
   "cell_type": "markdown",
   "id": "98517dc5",
   "metadata": {},
   "source": [
    "### keras.preprocessing.sequence.pad_sequences 을 활용한 패딩 추가"
   ]
  },
  {
   "cell_type": "code",
   "execution_count": 37,
   "id": "52e8792e",
   "metadata": {},
   "outputs": [],
   "source": [
    "import tensorflow as tf\n",
    "\n",
    "X_train = tf.keras.preprocessing.sequence.pad_sequences(X_train,\n",
    "                                                       value=word_to_index[\"<PAD>\"],\n",
    "                                                       padding='pre',\n",
    "                                                       maxlen=maxlen)\n",
    "X_val = tf.keras.preprocessing.sequence.pad_sequences(X_val,\n",
    "                                                       value=word_to_index[\"<PAD>\"],\n",
    "                                                       padding='pre',\n",
    "                                                       maxlen=maxlen)\n",
    "X_test = tf.keras.preprocessing.sequence.pad_sequences(X_test,\n",
    "                                                       value=word_to_index[\"<PAD>\"],\n",
    "                                                       padding='pre',\n",
    "                                                       maxlen=maxlen)"
   ]
  },
  {
   "cell_type": "markdown",
   "id": "ce2a8f10",
   "metadata": {},
   "source": [
    "## 4) 모델 구성 및 validation set 구성"
   ]
  },
  {
   "cell_type": "code",
   "execution_count": 38,
   "id": "57356124",
   "metadata": {},
   "outputs": [],
   "source": [
    "from tensorflow.keras.initializers import Constant\n",
    "\n",
    "def model_builder1(vocab_size, word_vector_dim, maxlen):\n",
    "\n",
    "    model = tf.keras.Sequential([\n",
    "    tf.keras.layers.Embedding(input_dim=vocab_size, output_dim=word_vector_dim, input_length=maxlen),\n",
    "    tf.keras.layers.GlobalAveragePooling1D(),\n",
    "    tf.keras.layers.Dense(16, activation='relu'),\n",
    "    tf.keras.layers.Dense(1, activation='sigmoid')\n",
    "    ])\n",
    "\n",
    "    model.compile(optimizer = 'adam',\n",
    "                loss = 'binary_crossentropy',\n",
    "                metrics = ['accuracy'])\n",
    "\n",
    "    return model\n",
    "\n",
    "def model_builder2(vocab_size, word_vector_dim, maxlen, embedding_matrix):\n",
    "\n",
    "    model = tf.keras.Sequential([\n",
    "    tf.keras.layers.Embedding(input_dim=vocab_size, output_dim=word_vector_dim, \n",
    "                              embeddings_initializer=Constant(embedding_matrix),\n",
    "                              input_length=maxlen,\n",
    "                              trainable=True),\n",
    "    tf.keras.layers.Conv1D(64, 7, activation='relu'),\n",
    "    tf.keras.layers.MaxPooling1D(5),\n",
    "    tf.keras.layers.Conv1D(64, 7, activation='relu'),\n",
    "    tf.keras.layers.GlobalMaxPooling1D(),\n",
    "    tf.keras.layers.Dense(32, activation='relu'),\n",
    "    tf.keras.layers.Dense(1, activation='sigmoid')\n",
    "    ])\n",
    "\n",
    "    model.compile(optimizer = 'adam',\n",
    "                loss = 'binary_crossentropy',\n",
    "                metrics = ['accuracy'])\n",
    "\n",
    "    return model\n",
    "\n",
    "def model_builder3(vocab_size, word_vector_dim, maxlen, embedding_matrix):\n",
    "\n",
    "    model = tf.keras.Sequential([\n",
    "    tf.keras.layers.Embedding(input_dim=vocab_size, output_dim=word_vector_dim, \n",
    "                              embeddings_initializer=Constant(embedding_matrix),\n",
    "                              input_length=maxlen,\n",
    "                              trainable=True),\n",
    "    tf.keras.layers.Conv1D(64, 7, activation='relu'),\n",
    "    tf.keras.layers.MaxPooling1D(5),\n",
    "    tf.keras.layers.Dropout(0.5),\n",
    "    tf.keras.layers.Conv1D(64, 7, activation='relu'),\n",
    "    tf.keras.layers.GlobalMaxPooling1D(),\n",
    "    tf.keras.layers.Dropout(0.5),\n",
    "    tf.keras.layers.Dense(32, activation='relu'),\n",
    "    \n",
    "    tf.keras.layers.Dense(1, activation='sigmoid')\n",
    "    ])\n",
    "\n",
    "    model.compile(optimizer = 'adam',\n",
    "                loss = 'binary_crossentropy',\n",
    "                metrics = ['accuracy'])\n",
    "\n",
    "    return model\n",
    "\n",
    "\n",
    "def model_lstm_builder(vocab_size, word_vector_dim, maxlen, embedding_matrix):\n",
    "    \n",
    "    model_lstm = tf.keras.Sequential()\n",
    "    model_lstm.add(tf.keras.layers.Embedding(input_dim=vocab_size, output_dim=word_vector_dim, \n",
    "                                             embeddings_initializer=Constant(embedding_matrix),\n",
    "                                             input_length=maxlen,\n",
    "                                             trainable=True))\n",
    "    model_lstm.add(tf.keras.layers.LSTM(128, return_sequences=True))\n",
    "    model_lstm.add(tf.keras.layers.Dense(32, activation='relu'))\n",
    "    model_lstm.add(tf.keras.layers.LSTM(128, return_sequences=True))\n",
    "    model_lstm.add(tf.keras.layers.Dense(32, activation='relu'))\n",
    "    model_lstm.add(tf.keras.layers.LSTM(128))\n",
    "    model_lstm.add(tf.keras.layers.Dense(32, activation='relu'))\n",
    "    model_lstm.add(tf.keras.layers.Dense(1, activation='sigmoid'))\n",
    "    \n",
    "    model_lstm.compile(optimizer = 'adam',\n",
    "                loss = 'binary_crossentropy',\n",
    "                metrics = ['accuracy'])\n",
    "    \n",
    "    return model_lstm"
   ]
  },
  {
   "cell_type": "markdown",
   "id": "9f22eefa",
   "metadata": {},
   "source": [
    "## 5) 모델 훈련 개시"
   ]
  },
  {
   "cell_type": "code",
   "execution_count": 39,
   "id": "3af91448",
   "metadata": {},
   "outputs": [],
   "source": [
    "vocab_size = len(word_to_index)\n",
    "word_vector_dim = 16"
   ]
  },
  {
   "cell_type": "code",
   "execution_count": 11,
   "id": "e71b9d85",
   "metadata": {},
   "outputs": [
    {
     "name": "stdout",
     "output_type": "stream",
     "text": [
      "Epoch 1/20\n",
      "206/206 [==============================] - 2s 4ms/step - loss: 0.6771 - accuracy: 0.6647 - val_loss: 0.6331 - val_accuracy: 0.7519\n",
      "Epoch 2/20\n",
      "206/206 [==============================] - 1s 4ms/step - loss: 0.5456 - accuracy: 0.7907 - val_loss: 0.4733 - val_accuracy: 0.8102\n",
      "Epoch 3/20\n",
      "206/206 [==============================] - 1s 4ms/step - loss: 0.4301 - accuracy: 0.8231 - val_loss: 0.4091 - val_accuracy: 0.8289\n",
      "Epoch 4/20\n",
      "206/206 [==============================] - 1s 4ms/step - loss: 0.3833 - accuracy: 0.8404 - val_loss: 0.3827 - val_accuracy: 0.8358\n",
      "Epoch 5/20\n",
      "206/206 [==============================] - 1s 4ms/step - loss: 0.3593 - accuracy: 0.8495 - val_loss: 0.3709 - val_accuracy: 0.8419\n",
      "Epoch 6/20\n",
      "206/206 [==============================] - 1s 4ms/step - loss: 0.3446 - accuracy: 0.8561 - val_loss: 0.3646 - val_accuracy: 0.8446\n",
      "Epoch 7/20\n",
      "206/206 [==============================] - 1s 4ms/step - loss: 0.3351 - accuracy: 0.8609 - val_loss: 0.3622 - val_accuracy: 0.8444\n",
      "Epoch 8/20\n",
      "206/206 [==============================] - 1s 4ms/step - loss: 0.3280 - accuracy: 0.8631 - val_loss: 0.3604 - val_accuracy: 0.8469\n",
      "Epoch 9/20\n",
      "206/206 [==============================] - 1s 4ms/step - loss: 0.3218 - accuracy: 0.8667 - val_loss: 0.3596 - val_accuracy: 0.8469\n",
      "Epoch 10/20\n",
      "206/206 [==============================] - 1s 4ms/step - loss: 0.3178 - accuracy: 0.8687 - val_loss: 0.3594 - val_accuracy: 0.8471\n",
      "Epoch 11/20\n",
      "206/206 [==============================] - 1s 4ms/step - loss: 0.3134 - accuracy: 0.8700 - val_loss: 0.3600 - val_accuracy: 0.8468\n",
      "Epoch 12/20\n",
      "206/206 [==============================] - 1s 4ms/step - loss: 0.3102 - accuracy: 0.8716 - val_loss: 0.3622 - val_accuracy: 0.8467\n",
      "Epoch 13/20\n",
      "206/206 [==============================] - 1s 4ms/step - loss: 0.3073 - accuracy: 0.8727 - val_loss: 0.3617 - val_accuracy: 0.8471\n",
      "Epoch 14/20\n",
      "206/206 [==============================] - 1s 4ms/step - loss: 0.3043 - accuracy: 0.8744 - val_loss: 0.3630 - val_accuracy: 0.8468\n",
      "Epoch 15/20\n",
      "206/206 [==============================] - 1s 4ms/step - loss: 0.3020 - accuracy: 0.8760 - val_loss: 0.3663 - val_accuracy: 0.8438\n",
      "Epoch 16/20\n",
      "206/206 [==============================] - 1s 4ms/step - loss: 0.2999 - accuracy: 0.8763 - val_loss: 0.3669 - val_accuracy: 0.8440\n",
      "Epoch 17/20\n",
      "206/206 [==============================] - 1s 3ms/step - loss: 0.2975 - accuracy: 0.8779 - val_loss: 0.3677 - val_accuracy: 0.8448\n",
      "Epoch 18/20\n",
      "206/206 [==============================] - 1s 4ms/step - loss: 0.2957 - accuracy: 0.8786 - val_loss: 0.3685 - val_accuracy: 0.8456\n",
      "Epoch 19/20\n",
      "206/206 [==============================] - 1s 4ms/step - loss: 0.2942 - accuracy: 0.8794 - val_loss: 0.3706 - val_accuracy: 0.8454\n",
      "Epoch 20/20\n",
      "206/206 [==============================] - 1s 4ms/step - loss: 0.2931 - accuracy: 0.8793 - val_loss: 0.3720 - val_accuracy: 0.8445\n",
      "1537/1537 - 2s - loss: 0.3755 - accuracy: 0.8417\n",
      "Test Loss: 0.37550973892211914, Test Accuracy: 0.8417112231254578\n"
     ]
    }
   ],
   "source": [
    "# model1, 기본형\n",
    "model1 = model_builder1(vocab_size, word_vector_dim, maxlen)\n",
    "\n",
    "history1 = model1.fit(X_train, y_train, epochs=20, batch_size=512, validation_split=0.2, verbose=1)\n",
    "\n",
    "results1 = model1.evaluate(X_test, y_test, verbose=2)\n",
    "print(f'Test Loss: {results1[0]}, Test Accuracy: {results1[1]}')"
   ]
  },
  {
   "cell_type": "markdown",
   "id": "129e9a94",
   "metadata": {},
   "source": [
    "## 6) Loss, Accuracy 그래프 시각화"
   ]
  },
  {
   "cell_type": "code",
   "execution_count": 12,
   "id": "f3e4a8dd",
   "metadata": {},
   "outputs": [
    {
     "data": {
      "image/png": "[encoded data removed]",
      "text/plain": [
       "<Figure size 432x288 with 1 Axes>"
      ]
     },
     "metadata": {
      "needs_background": "light"
     },
     "output_type": "display_data"
    }
   ],
   "source": [
    "import matplotlib.pyplot as plt\n",
    "\n",
    "history1_dict = history1.history\n",
    "\n",
    "acc = history1_dict['accuracy']\n",
    "val_acc = history1_dict['val_accuracy']\n",
    "loss = history1_dict['loss']\n",
    "val_loss = history1_dict['val_loss']\n",
    "\n",
    "epochs = range(1, len(acc) + 1)\n",
    "\n",
    "plt.plot(epochs, loss, 'bo', label='Training loss')\n",
    "plt.plot(epochs, val_loss, 'b', label='Validation loss')\n",
    "plt.title('Training and validation loss')\n",
    "plt.xlabel('Epochs')\n",
    "plt.ylabel('Loss')\n",
    "plt.legend()\n",
    "\n",
    "plt.show()"
   ]
  },
  {
   "cell_type": "code",
   "execution_count": 13,
   "id": "04e9d604",
   "metadata": {},
   "outputs": [
    {
     "data": {
      "image/png": "[encoded data removed]",
      "text/plain": [
       "<Figure size 432x288 with 1 Axes>"
      ]
     },
     "metadata": {
      "needs_background": "light"
     },
     "output_type": "display_data"
    }
   ],
   "source": [
    "plt.clf()   \n",
    "\n",
    "plt.plot(epochs, acc, 'bo', label='Training acc')\n",
    "plt.plot(epochs, val_acc, 'b', label='Validation acc')\n",
    "plt.title('Training and validation accuracy')\n",
    "plt.xlabel('Epochs')\n",
    "plt.ylabel('Accuracy')\n",
    "plt.legend()\n",
    "\n",
    "plt.show()"
   ]
  },
  {
   "cell_type": "markdown",
   "id": "de312447",
   "metadata": {},
   "source": [
    "## 7) 학습된 Embedding 레이어 분석"
   ]
  },
  {
   "cell_type": "code",
   "execution_count": 14,
   "id": "6629fd36",
   "metadata": {},
   "outputs": [
    {
     "name": "stdout",
     "output_type": "stream",
     "text": [
      "(10000, 16)\n"
     ]
    }
   ],
   "source": [
    "import os\n",
    "\n",
    "embedding_layer = model1.layers[0]\n",
    "weights = embedding_layer.get_weights()[0]\n",
    "print(weights.shape)    # shape: (vocab_size, embedding_dim)\n",
    "\n",
    "# 학습한 Embedding 파라미터를 파일에 써서 저장합니다. \n",
    "word2vec_file_path = os.getenv('HOME')+'/aiffel/sentiment_classification/data/word2vec_1.txt'\n",
    "f = open(word2vec_file_path, 'w')\n",
    "f.write('{} {}\\n'.format(vocab_size-4, word_vector_dim))  # 몇개의 벡터를 얼마 사이즈로 기재할지 타이틀을 씁니다.\n",
    "\n",
    "# 단어 개수(에서 특수문자 4개는 제외하고)만큼의 워드 벡터를 파일에 기록합니다. \n",
    "vectors = model1.get_weights()[0]\n",
    "for i in range(4,vocab_size):\n",
    "    f.write('{} {}\\n'.format(index_to_word[i], ' '.join(map(str, list(vectors[i, :])))))\n",
    "f.close()"
   ]
  },
  {
   "cell_type": "code",
   "execution_count": 15,
   "id": "db6f1c3c",
   "metadata": {},
   "outputs": [
    {
     "data": {
      "text/plain": [
       "array([ 0.02598127, -0.0253059 , -0.01388663, -0.0056677 , -0.05123879,\n",
       "        0.14731099, -0.03448881, -0.09939786,  0.03810572, -0.01338854,\n",
       "       -0.00636498, -0.10653669,  0.03261983, -0.01568874, -0.05527313,\n",
       "       -0.04647263], dtype=float32)"
      ]
     },
     "execution_count": 15,
     "metadata": {},
     "output_type": "execute_result"
    }
   ],
   "source": [
    "from gensim.models.keyedvectors import Word2VecKeyedVectors\n",
    "\n",
    "word_vectors = Word2VecKeyedVectors.load_word2vec_format(word2vec_file_path, binary=False)\n",
    "vector = word_vectors['영화']\n",
    "vector"
   ]
  },
  {
   "cell_type": "code",
   "execution_count": 16,
   "id": "a4d70542",
   "metadata": {},
   "outputs": [
    {
     "data": {
      "text/plain": [
       "[('최선', 0.997480034828186),\n",
       " ('메이퀸', 0.9972800612449646),\n",
       " ('봐야', 0.997199535369873),\n",
       " ('최고', 0.997184693813324),\n",
       " ('눈물', 0.9970149993896484),\n",
       " ('알파치노', 0.9969419240951538),\n",
       " ('매력', 0.9969261288642883),\n",
       " ('재미있', 0.9968223571777344),\n",
       " ('필요', 0.9967065453529358),\n",
       " ('잊', 0.9964533448219299)]"
      ]
     },
     "execution_count": 16,
     "metadata": {},
     "output_type": "execute_result"
    }
   ],
   "source": [
    "word_vectors.similar_by_word(\"사랑\")"
   ]
  },
  {
   "cell_type": "markdown",
   "id": "3b71870c",
   "metadata": {},
   "source": [
    "## 8) 한국어 Word2Vec 임베딩 활용하여 성능 개선"
   ]
  },
  {
   "cell_type": "code",
   "execution_count": 42,
   "id": "86c97dae",
   "metadata": {},
   "outputs": [
    {
     "name": "stdout",
     "output_type": "stream",
     "text": [
      "[ 1.038851   -1.1634965   2.2386286   0.8971453  -2.088168   -4.1942534\n",
      " -0.02519768 -0.69813883 -0.2908033  -1.4651134  -2.6863668   0.7999443\n",
      " -0.6957915  -0.5018775   3.5025773   0.21326113 -0.6588098  -1.1900496\n",
      "  0.61399573  2.1247969   0.1549463   3.0840218   3.1680267  -3.9143991\n",
      "  3.6073153   0.5315545  -0.3511633  -1.107248    1.7767181  -0.95981866\n",
      "  2.6072454  -0.00697957 -3.27628     1.558644    0.81922376  1.9231955\n",
      "  3.7026553  -0.53824735 -0.4920138   2.4657123  -2.620749   -0.08950733\n",
      "  0.61453176  1.8866426   0.257866   -2.7827141   2.9129577  -0.6313133\n",
      "  2.0387425  -4.222685   -2.7560544   1.7903243  -1.3080189  -2.5531402\n",
      " -0.43849912 -3.1073573  -0.29090825  5.1817617   1.9604833  -5.1421604\n",
      " -0.71431434  4.5624633  -0.55525815 -3.3019137   1.6761336  -1.9606539\n",
      " -0.2726863   0.2465995   1.2685091   1.6055685   1.8344896   1.2752469\n",
      "  0.99503314 -2.3348706  -0.9290329  -1.5920266   5.693834    1.1132814\n",
      " -0.9603875  -1.970055   -1.0120267  -2.7289615  -2.7759619   3.214084\n",
      "  1.8573734  -1.3495721  -0.10321241  3.434593   -2.8573685  -1.9004927\n",
      " -1.6801298  -2.805677    1.7723105  -0.41865307 -2.310913   -6.2761464\n",
      " -0.8376036   2.4590037   2.1697695  -4.440443  ]\n"
     ]
    }
   ],
   "source": [
    "from gensim.models.keyedvectors import Word2VecKeyedVectors\n",
    "\n",
    "word2vec_ko_file_path = os.getenv('HOME')+'/aiffel/sentiment_classification/data/word2vec_ko.model'\n",
    "word2vec = Word2VecKeyedVectors.load(word2vec_ko_file_path)\n",
    "print(word2vec.wv['끝'])"
   ]
  },
  {
   "cell_type": "code",
   "execution_count": 43,
   "id": "6a14ae6d",
   "metadata": {},
   "outputs": [
    {
     "name": "stdout",
     "output_type": "stream",
     "text": [
      "vocab_size : 302960, word_vector_dim : 100\n"
     ]
    }
   ],
   "source": [
    "vocab_size = len(word2vec.wv)\n",
    "word_vector_dim = len(word2vec.wv['영화'])\n",
    "print(f'vocab_size : {vocab_size}, word_vector_dim : {word_vector_dim}')"
   ]
  },
  {
   "cell_type": "code",
   "execution_count": 44,
   "id": "f4540750",
   "metadata": {},
   "outputs": [],
   "source": [
    "embedding_matrix = np.zeros((vocab_size, word_vector_dim))"
   ]
  },
  {
   "cell_type": "code",
   "execution_count": 45,
   "id": "2ec6ac4d",
   "metadata": {},
   "outputs": [],
   "source": [
    "for i in range(4, len(index_to_word)):\n",
    "    if index_to_word[i] in word2vec.wv:\n",
    "        embedding_matrix[i] = word2vec.wv[index_to_word[i]]"
   ]
  },
  {
   "cell_type": "markdown",
   "id": "6254e40f",
   "metadata": {},
   "source": [
    "### 사전학습된 한국어 Word2vec 으로 학습하기"
   ]
  },
  {
   "cell_type": "code",
   "execution_count": 46,
   "id": "02ac61ac",
   "metadata": {},
   "outputs": [],
   "source": [
    "model2 = model_builder2(vocab_size, word_vector_dim, maxlen, embedding_matrix)"
   ]
  },
  {
   "cell_type": "code",
   "execution_count": 22,
   "id": "6210cf3b",
   "metadata": {},
   "outputs": [
    {
     "name": "stdout",
     "output_type": "stream",
     "text": [
      "Epoch 1/20\n",
      "4112/4112 [==============================] - 79s 19ms/step - loss: 0.4438 - accuracy: 0.7891 - val_loss: 0.3717 - val_accuracy: 0.8341\n",
      "Epoch 2/20\n",
      "4112/4112 [==============================] - 76s 19ms/step - loss: 0.3310 - accuracy: 0.8568 - val_loss: 0.3318 - val_accuracy: 0.8538\n",
      "Epoch 3/20\n",
      "4112/4112 [==============================] - 76s 19ms/step - loss: 0.2904 - accuracy: 0.8766 - val_loss: 0.3270 - val_accuracy: 0.8585\n",
      "Epoch 4/20\n",
      "4112/4112 [==============================] - 76s 19ms/step - loss: 0.2604 - accuracy: 0.8927 - val_loss: 0.3256 - val_accuracy: 0.8598\n",
      "Epoch 5/20\n",
      "4112/4112 [==============================] - 76s 19ms/step - loss: 0.2311 - accuracy: 0.9066 - val_loss: 0.3513 - val_accuracy: 0.8558\n",
      "Epoch 6/20\n",
      "4112/4112 [==============================] - 76s 19ms/step - loss: 0.2031 - accuracy: 0.9184 - val_loss: 0.3586 - val_accuracy: 0.8549\n",
      "Epoch 7/20\n",
      "4112/4112 [==============================] - 76s 19ms/step - loss: 0.1784 - accuracy: 0.9299 - val_loss: 0.3965 - val_accuracy: 0.8529\n",
      "Epoch 8/20\n",
      "4112/4112 [==============================] - 76s 19ms/step - loss: 0.1546 - accuracy: 0.9403 - val_loss: 0.4300 - val_accuracy: 0.8518\n",
      "Epoch 9/20\n",
      "4112/4112 [==============================] - 76s 19ms/step - loss: 0.1350 - accuracy: 0.9483 - val_loss: 0.4672 - val_accuracy: 0.8495\n",
      "Epoch 10/20\n",
      "4112/4112 [==============================] - 76s 19ms/step - loss: 0.1169 - accuracy: 0.9555 - val_loss: 0.5212 - val_accuracy: 0.8548\n",
      "Epoch 11/20\n",
      "4112/4112 [==============================] - 76s 19ms/step - loss: 0.1016 - accuracy: 0.9619 - val_loss: 0.5579 - val_accuracy: 0.8496\n",
      "Epoch 12/20\n",
      "4112/4112 [==============================] - 76s 19ms/step - loss: 0.0892 - accuracy: 0.9665 - val_loss: 0.6116 - val_accuracy: 0.8473\n",
      "Epoch 13/20\n",
      "4112/4112 [==============================] - 76s 19ms/step - loss: 0.0807 - accuracy: 0.9690 - val_loss: 0.7164 - val_accuracy: 0.8465\n",
      "Epoch 14/20\n",
      "4112/4112 [==============================] - 76s 19ms/step - loss: 0.0702 - accuracy: 0.9735 - val_loss: 0.7089 - val_accuracy: 0.8427\n",
      "Epoch 15/20\n",
      "4112/4112 [==============================] - 76s 19ms/step - loss: 0.0646 - accuracy: 0.9752 - val_loss: 0.7425 - val_accuracy: 0.8483\n",
      "Epoch 16/20\n",
      "4112/4112 [==============================] - 76s 19ms/step - loss: 0.0568 - accuracy: 0.9782 - val_loss: 0.7815 - val_accuracy: 0.8437\n",
      "Epoch 17/20\n",
      "4112/4112 [==============================] - 76s 19ms/step - loss: 0.0527 - accuracy: 0.9801 - val_loss: 0.8507 - val_accuracy: 0.8469\n",
      "Epoch 18/20\n",
      "4112/4112 [==============================] - 76s 19ms/step - loss: 0.0471 - accuracy: 0.9818 - val_loss: 0.8072 - val_accuracy: 0.8468\n",
      "Epoch 19/20\n",
      "4112/4112 [==============================] - 76s 19ms/step - loss: 0.0426 - accuracy: 0.9840 - val_loss: 0.9374 - val_accuracy: 0.8463\n",
      "Epoch 20/20\n",
      "4112/4112 [==============================] - 76s 19ms/step - loss: 0.0406 - accuracy: 0.9846 - val_loss: 0.8483 - val_accuracy: 0.8420\n"
     ]
    }
   ],
   "source": [
    "history2 = model2.fit(X_train,\n",
    "                    y_train,\n",
    "                    epochs=20,\n",
    "                    batch_size=32,\n",
    "                    validation_data=(X_val, y_val),\n",
    "                    verbose=1)"
   ]
  },
  {
   "cell_type": "code",
   "execution_count": 23,
   "id": "5e2bdec3",
   "metadata": {},
   "outputs": [],
   "source": [
    "history2_dict = history2.history"
   ]
  },
  {
   "cell_type": "code",
   "execution_count": 24,
   "id": "f30924dd",
   "metadata": {},
   "outputs": [
    {
     "data": {
      "image/png": "[encoded data removed]",
      "text/plain": [
       "<Figure size 432x288 with 1 Axes>"
      ]
     },
     "metadata": {
      "needs_background": "light"
     },
     "output_type": "display_data"
    }
   ],
   "source": [
    "acc = history2_dict['accuracy']\n",
    "val_acc = history2_dict['val_accuracy']\n",
    "loss = history2_dict['loss']\n",
    "val_loss = history2_dict['val_loss']\n",
    "\n",
    "epochs = range(1, len(acc) + 1)\n",
    "\n",
    "plt.plot(epochs, loss, 'bo', label='Training loss')\n",
    "plt.plot(epochs, val_loss, 'b', label='Validation loss')\n",
    "plt.title('Training and validation loss')\n",
    "plt.xlabel('Epochs')\n",
    "plt.ylabel('Loss')\n",
    "plt.legend()\n",
    "\n",
    "plt.show()"
   ]
  },
  {
   "cell_type": "code",
   "execution_count": 25,
   "id": "d119e75a",
   "metadata": {},
   "outputs": [
    {
     "data": {
      "image/png": "[encoded data removed]",
      "text/plain": [
       "<Figure size 432x288 with 1 Axes>"
      ]
     },
     "metadata": {
      "needs_background": "light"
     },
     "output_type": "display_data"
    }
   ],
   "source": [
    "plt.clf()   \n",
    "\n",
    "plt.plot(epochs, acc, 'bo', label='Training acc')\n",
    "plt.plot(epochs, val_acc, 'b', label='Validation acc')\n",
    "plt.title('Training and validation accuracy')\n",
    "plt.xlabel('Epochs')\n",
    "plt.ylabel('Accuracy')\n",
    "plt.legend()\n",
    "\n",
    "plt.show()"
   ]
  },
  {
   "cell_type": "markdown",
   "id": "f5a2b05a",
   "metadata": {},
   "source": [
    "### 한국어 Word2Vec 임베딩 + LSTM Model"
   ]
  },
  {
   "cell_type": "code",
   "execution_count": 26,
   "id": "5c5e97e9",
   "metadata": {},
   "outputs": [],
   "source": [
    "model_lstm = model_lstm_builder(vocab_size, word_vector_dim, maxlen, embedding_matrix)"
   ]
  },
  {
   "cell_type": "code",
   "execution_count": 27,
   "id": "046b0e9d",
   "metadata": {
    "scrolled": false
   },
   "outputs": [
    {
     "name": "stdout",
     "output_type": "stream",
     "text": [
      "Epoch 1/20\n",
      "4112/4112 [==============================] - 139s 32ms/step - loss: 0.3791 - accuracy: 0.8287 - val_loss: 0.3266 - val_accuracy: 0.8609\n",
      "Epoch 2/20\n",
      "4112/4112 [==============================] - 130s 32ms/step - loss: 0.2908 - accuracy: 0.8770 - val_loss: 0.3048 - val_accuracy: 0.8686\n",
      "Epoch 3/20\n",
      "4112/4112 [==============================] - 131s 32ms/step - loss: 0.2558 - accuracy: 0.8945 - val_loss: 0.3143 - val_accuracy: 0.8700\n",
      "Epoch 4/20\n",
      "4112/4112 [==============================] - 131s 32ms/step - loss: 0.2244 - accuracy: 0.9094 - val_loss: 0.3059 - val_accuracy: 0.8686\n",
      "Epoch 5/20\n",
      "4112/4112 [==============================] - 131s 32ms/step - loss: 0.1939 - accuracy: 0.9235 - val_loss: 0.3255 - val_accuracy: 0.8668\n",
      "Epoch 6/20\n",
      "4112/4112 [==============================] - 130s 32ms/step - loss: 0.1652 - accuracy: 0.9359 - val_loss: 0.3393 - val_accuracy: 0.8672\n",
      "Epoch 7/20\n",
      "4112/4112 [==============================] - 130s 32ms/step - loss: 0.1386 - accuracy: 0.9477 - val_loss: 0.3759 - val_accuracy: 0.8637\n",
      "Epoch 8/20\n",
      "3105/4112 [=====================>........] - ETA: 31s - loss: 0.1152 - accuracy: 0.9582"
     ]
    },
    {
     "ename": "KeyboardInterrupt",
     "evalue": "",
     "output_type": "error",
     "traceback": [
      "\u001b[0;31m---------------------------------------------------------------------------\u001b[0m",
      "\u001b[0;31mKeyboardInterrupt\u001b[0m                         Traceback (most recent call last)",
      "\u001b[0;32m/tmp/ipykernel_925/3719198601.py\u001b[0m in \u001b[0;36m<module>\u001b[0;34m\u001b[0m\n\u001b[0;32m----> 1\u001b[0;31m history_lstm = model_lstm.fit(X_train,\n\u001b[0m\u001b[1;32m      2\u001b[0m                     \u001b[0my_train\u001b[0m\u001b[0;34m,\u001b[0m\u001b[0;34m\u001b[0m\u001b[0;34m\u001b[0m\u001b[0m\n\u001b[1;32m      3\u001b[0m                     \u001b[0mepochs\u001b[0m\u001b[0;34m=\u001b[0m\u001b[0;36m20\u001b[0m\u001b[0;34m,\u001b[0m\u001b[0;34m\u001b[0m\u001b[0;34m\u001b[0m\u001b[0m\n\u001b[1;32m      4\u001b[0m                     \u001b[0mbatch_size\u001b[0m\u001b[0;34m=\u001b[0m\u001b[0;36m32\u001b[0m\u001b[0;34m,\u001b[0m\u001b[0;34m\u001b[0m\u001b[0;34m\u001b[0m\u001b[0m\n\u001b[1;32m      5\u001b[0m                     \u001b[0mvalidation_data\u001b[0m\u001b[0;34m=\u001b[0m\u001b[0;34m(\u001b[0m\u001b[0mX_val\u001b[0m\u001b[0;34m,\u001b[0m \u001b[0my_val\u001b[0m\u001b[0;34m)\u001b[0m\u001b[0;34m,\u001b[0m\u001b[0;34m\u001b[0m\u001b[0;34m\u001b[0m\u001b[0m\n",
      "\u001b[0;32m/opt/conda/lib/python3.9/site-packages/keras/engine/training.py\u001b[0m in \u001b[0;36mfit\u001b[0;34m(self, x, y, batch_size, epochs, verbose, callbacks, validation_split, validation_data, shuffle, class_weight, sample_weight, initial_epoch, steps_per_epoch, validation_steps, validation_batch_size, validation_freq, max_queue_size, workers, use_multiprocessing)\u001b[0m\n\u001b[1;32m   1182\u001b[0m                 _r=1):\n\u001b[1;32m   1183\u001b[0m               \u001b[0mcallbacks\u001b[0m\u001b[0;34m.\u001b[0m\u001b[0mon_train_batch_begin\u001b[0m\u001b[0;34m(\u001b[0m\u001b[0mstep\u001b[0m\u001b[0;34m)\u001b[0m\u001b[0;34m\u001b[0m\u001b[0;34m\u001b[0m\u001b[0m\n\u001b[0;32m-> 1184\u001b[0;31m               \u001b[0mtmp_logs\u001b[0m \u001b[0;34m=\u001b[0m \u001b[0mself\u001b[0m\u001b[0;34m.\u001b[0m\u001b[0mtrain_function\u001b[0m\u001b[0;34m(\u001b[0m\u001b[0miterator\u001b[0m\u001b[0;34m)\u001b[0m\u001b[0;34m\u001b[0m\u001b[0;34m\u001b[0m\u001b[0m\n\u001b[0m\u001b[1;32m   1185\u001b[0m               \u001b[0;32mif\u001b[0m \u001b[0mdata_handler\u001b[0m\u001b[0;34m.\u001b[0m\u001b[0mshould_sync\u001b[0m\u001b[0;34m:\u001b[0m\u001b[0;34m\u001b[0m\u001b[0;34m\u001b[0m\u001b[0m\n\u001b[1;32m   1186\u001b[0m                 \u001b[0mcontext\u001b[0m\u001b[0;34m.\u001b[0m\u001b[0masync_wait\u001b[0m\u001b[0;34m(\u001b[0m\u001b[0;34m)\u001b[0m\u001b[0;34m\u001b[0m\u001b[0;34m\u001b[0m\u001b[0m\n",
      "\u001b[0;32m/opt/conda/lib/python3.9/site-packages/tensorflow/python/eager/def_function.py\u001b[0m in \u001b[0;36m__call__\u001b[0;34m(self, *args, **kwds)\u001b[0m\n\u001b[1;32m    883\u001b[0m \u001b[0;34m\u001b[0m\u001b[0m\n\u001b[1;32m    884\u001b[0m       \u001b[0;32mwith\u001b[0m \u001b[0mOptionalXlaContext\u001b[0m\u001b[0;34m(\u001b[0m\u001b[0mself\u001b[0m\u001b[0;34m.\u001b[0m\u001b[0m_jit_compile\u001b[0m\u001b[0;34m)\u001b[0m\u001b[0;34m:\u001b[0m\u001b[0;34m\u001b[0m\u001b[0;34m\u001b[0m\u001b[0m\n\u001b[0;32m--> 885\u001b[0;31m         \u001b[0mresult\u001b[0m \u001b[0;34m=\u001b[0m \u001b[0mself\u001b[0m\u001b[0;34m.\u001b[0m\u001b[0m_call\u001b[0m\u001b[0;34m(\u001b[0m\u001b[0;34m*\u001b[0m\u001b[0margs\u001b[0m\u001b[0;34m,\u001b[0m \u001b[0;34m**\u001b[0m\u001b[0mkwds\u001b[0m\u001b[0;34m)\u001b[0m\u001b[0;34m\u001b[0m\u001b[0;34m\u001b[0m\u001b[0m\n\u001b[0m\u001b[1;32m    886\u001b[0m \u001b[0;34m\u001b[0m\u001b[0m\n\u001b[1;32m    887\u001b[0m       \u001b[0mnew_tracing_count\u001b[0m \u001b[0;34m=\u001b[0m \u001b[0mself\u001b[0m\u001b[0;34m.\u001b[0m\u001b[0mexperimental_get_tracing_count\u001b[0m\u001b[0;34m(\u001b[0m\u001b[0;34m)\u001b[0m\u001b[0;34m\u001b[0m\u001b[0;34m\u001b[0m\u001b[0m\n",
      "\u001b[0;32m/opt/conda/lib/python3.9/site-packages/tensorflow/python/eager/def_function.py\u001b[0m in \u001b[0;36m_call\u001b[0;34m(self, *args, **kwds)\u001b[0m\n\u001b[1;32m    915\u001b[0m       \u001b[0;31m# In this case we have created variables on the first call, so we run the\u001b[0m\u001b[0;34m\u001b[0m\u001b[0;34m\u001b[0m\u001b[0m\n\u001b[1;32m    916\u001b[0m       \u001b[0;31m# defunned version which is guaranteed to never create variables.\u001b[0m\u001b[0;34m\u001b[0m\u001b[0;34m\u001b[0m\u001b[0m\n\u001b[0;32m--> 917\u001b[0;31m       \u001b[0;32mreturn\u001b[0m \u001b[0mself\u001b[0m\u001b[0;34m.\u001b[0m\u001b[0m_stateless_fn\u001b[0m\u001b[0;34m(\u001b[0m\u001b[0;34m*\u001b[0m\u001b[0margs\u001b[0m\u001b[0;34m,\u001b[0m \u001b[0;34m**\u001b[0m\u001b[0mkwds\u001b[0m\u001b[0;34m)\u001b[0m  \u001b[0;31m# pylint: disable=not-callable\u001b[0m\u001b[0;34m\u001b[0m\u001b[0;34m\u001b[0m\u001b[0m\n\u001b[0m\u001b[1;32m    918\u001b[0m     \u001b[0;32melif\u001b[0m \u001b[0mself\u001b[0m\u001b[0;34m.\u001b[0m\u001b[0m_stateful_fn\u001b[0m \u001b[0;32mis\u001b[0m \u001b[0;32mnot\u001b[0m \u001b[0;32mNone\u001b[0m\u001b[0;34m:\u001b[0m\u001b[0;34m\u001b[0m\u001b[0;34m\u001b[0m\u001b[0m\n\u001b[1;32m    919\u001b[0m       \u001b[0;31m# Release the lock early so that multiple threads can perform the call\u001b[0m\u001b[0;34m\u001b[0m\u001b[0;34m\u001b[0m\u001b[0m\n",
      "\u001b[0;32m/opt/conda/lib/python3.9/site-packages/tensorflow/python/eager/function.py\u001b[0m in \u001b[0;36m__call__\u001b[0;34m(self, *args, **kwargs)\u001b[0m\n\u001b[1;32m   3037\u001b[0m       (graph_function,\n\u001b[1;32m   3038\u001b[0m        filtered_flat_args) = self._maybe_define_function(args, kwargs)\n\u001b[0;32m-> 3039\u001b[0;31m     return graph_function._call_flat(\n\u001b[0m\u001b[1;32m   3040\u001b[0m         filtered_flat_args, captured_inputs=graph_function.captured_inputs)  # pylint: disable=protected-access\n\u001b[1;32m   3041\u001b[0m \u001b[0;34m\u001b[0m\u001b[0m\n",
      "\u001b[0;32m/opt/conda/lib/python3.9/site-packages/tensorflow/python/eager/function.py\u001b[0m in \u001b[0;36m_call_flat\u001b[0;34m(self, args, captured_inputs, cancellation_manager)\u001b[0m\n\u001b[1;32m   1961\u001b[0m         and executing_eagerly):\n\u001b[1;32m   1962\u001b[0m       \u001b[0;31m# No tape is watching; skip to running the function.\u001b[0m\u001b[0;34m\u001b[0m\u001b[0;34m\u001b[0m\u001b[0m\n\u001b[0;32m-> 1963\u001b[0;31m       return self._build_call_outputs(self._inference_function.call(\n\u001b[0m\u001b[1;32m   1964\u001b[0m           ctx, args, cancellation_manager=cancellation_manager))\n\u001b[1;32m   1965\u001b[0m     forward_backward = self._select_forward_and_backward_functions(\n",
      "\u001b[0;32m/opt/conda/lib/python3.9/site-packages/tensorflow/python/eager/function.py\u001b[0m in \u001b[0;36mcall\u001b[0;34m(self, ctx, args, cancellation_manager)\u001b[0m\n\u001b[1;32m    589\u001b[0m       \u001b[0;32mwith\u001b[0m \u001b[0m_InterpolateFunctionError\u001b[0m\u001b[0;34m(\u001b[0m\u001b[0mself\u001b[0m\u001b[0;34m)\u001b[0m\u001b[0;34m:\u001b[0m\u001b[0;34m\u001b[0m\u001b[0;34m\u001b[0m\u001b[0m\n\u001b[1;32m    590\u001b[0m         \u001b[0;32mif\u001b[0m \u001b[0mcancellation_manager\u001b[0m \u001b[0;32mis\u001b[0m \u001b[0;32mNone\u001b[0m\u001b[0;34m:\u001b[0m\u001b[0;34m\u001b[0m\u001b[0;34m\u001b[0m\u001b[0m\n\u001b[0;32m--> 591\u001b[0;31m           outputs = execute.execute(\n\u001b[0m\u001b[1;32m    592\u001b[0m               \u001b[0mstr\u001b[0m\u001b[0;34m(\u001b[0m\u001b[0mself\u001b[0m\u001b[0;34m.\u001b[0m\u001b[0msignature\u001b[0m\u001b[0;34m.\u001b[0m\u001b[0mname\u001b[0m\u001b[0;34m)\u001b[0m\u001b[0;34m,\u001b[0m\u001b[0;34m\u001b[0m\u001b[0;34m\u001b[0m\u001b[0m\n\u001b[1;32m    593\u001b[0m               \u001b[0mnum_outputs\u001b[0m\u001b[0;34m=\u001b[0m\u001b[0mself\u001b[0m\u001b[0;34m.\u001b[0m\u001b[0m_num_outputs\u001b[0m\u001b[0;34m,\u001b[0m\u001b[0;34m\u001b[0m\u001b[0;34m\u001b[0m\u001b[0m\n",
      "\u001b[0;32m/opt/conda/lib/python3.9/site-packages/tensorflow/python/eager/execute.py\u001b[0m in \u001b[0;36mquick_execute\u001b[0;34m(op_name, num_outputs, inputs, attrs, ctx, name)\u001b[0m\n\u001b[1;32m     57\u001b[0m   \u001b[0;32mtry\u001b[0m\u001b[0;34m:\u001b[0m\u001b[0;34m\u001b[0m\u001b[0;34m\u001b[0m\u001b[0m\n\u001b[1;32m     58\u001b[0m     \u001b[0mctx\u001b[0m\u001b[0;34m.\u001b[0m\u001b[0mensure_initialized\u001b[0m\u001b[0;34m(\u001b[0m\u001b[0;34m)\u001b[0m\u001b[0;34m\u001b[0m\u001b[0;34m\u001b[0m\u001b[0m\n\u001b[0;32m---> 59\u001b[0;31m     tensors = pywrap_tfe.TFE_Py_Execute(ctx._handle, device_name, op_name,\n\u001b[0m\u001b[1;32m     60\u001b[0m                                         inputs, attrs, num_outputs)\n\u001b[1;32m     61\u001b[0m   \u001b[0;32mexcept\u001b[0m \u001b[0mcore\u001b[0m\u001b[0;34m.\u001b[0m\u001b[0m_NotOkStatusException\u001b[0m \u001b[0;32mas\u001b[0m \u001b[0me\u001b[0m\u001b[0;34m:\u001b[0m\u001b[0;34m\u001b[0m\u001b[0;34m\u001b[0m\u001b[0m\n",
      "\u001b[0;31mKeyboardInterrupt\u001b[0m: "
     ]
    }
   ],
   "source": [
    "history_lstm = model_lstm.fit(X_train,\n",
    "                    y_train,\n",
    "                    epochs=10,\n",
    "                    batch_size=32,\n",
    "                    validation_data=(X_val, y_val),\n",
    "                    verbose=1)"
   ]
  },
  {
   "cell_type": "code",
   "execution_count": 28,
   "id": "9014856a",
   "metadata": {
    "collapsed": true
   },
   "outputs": [
    {
     "ename": "NameError",
     "evalue": "name 'history_lstm' is not defined",
     "output_type": "error",
     "traceback": [
      "\u001b[0;31m---------------------------------------------------------------------------\u001b[0m",
      "\u001b[0;31mNameError\u001b[0m                                 Traceback (most recent call last)",
      "\u001b[0;32m/tmp/ipykernel_925/340464513.py\u001b[0m in \u001b[0;36m<module>\u001b[0;34m\u001b[0m\n\u001b[0;32m----> 1\u001b[0;31m \u001b[0mhistory_lstm_dict\u001b[0m \u001b[0;34m=\u001b[0m \u001b[0mhistory_lstm\u001b[0m\u001b[0;34m.\u001b[0m\u001b[0mhistory\u001b[0m\u001b[0;34m\u001b[0m\u001b[0;34m\u001b[0m\u001b[0m\n\u001b[0m",
      "\u001b[0;31mNameError\u001b[0m: name 'history_lstm' is not defined"
     ]
    }
   ],
   "source": [
    "history_lstm_dict = history_lstm.history"
   ]
  },
  {
   "cell_type": "code",
   "execution_count": null,
   "id": "7f497a00",
   "metadata": {},
   "outputs": [],
   "source": [
    "acc = history_lstm_dict['accuracy']\n",
    "val_acc = history_lstm_dict['val_accuracy']\n",
    "loss = history_lstm_dict['loss']\n",
    "val_loss = history_lstm_dict['val_loss']\n",
    "\n",
    "epochs = range(1, len(acc) + 1)\n",
    "\n",
    "plt.plot(epochs, loss, 'bo', label='Training loss')\n",
    "plt.plot(epochs, val_loss, 'b', label='Validation loss')\n",
    "plt.title('Training and validation loss')\n",
    "plt.xlabel('Epochs')\n",
    "plt.ylabel('Loss')\n",
    "plt.legend()\n",
    "\n",
    "plt.show()"
   ]
  },
  {
   "cell_type": "code",
   "execution_count": null,
   "id": "4474ec7a",
   "metadata": {},
   "outputs": [],
   "source": [
    "plt.clf()   \n",
    "\n",
    "plt.plot(epochs, acc, 'bo', label='Training acc')\n",
    "plt.plot(epochs, val_acc, 'b', label='Validation acc')\n",
    "plt.title('Training and validation accuracy')\n",
    "plt.xlabel('Epochs')\n",
    "plt.ylabel('Accuracy')\n",
    "plt.legend()\n",
    "\n",
    "plt.show()"
   ]
  },
  {
   "cell_type": "markdown",
   "id": "cba358da",
   "metadata": {},
   "source": [
    "### Add Dropout Layers"
   ]
  },
  {
   "cell_type": "code",
   "execution_count": 47,
   "id": "a0548d2f",
   "metadata": {},
   "outputs": [],
   "source": [
    "model3 = model_builder3(vocab_size, word_vector_dim, maxlen, embedding_matrix)"
   ]
  },
  {
   "cell_type": "code",
   "execution_count": 48,
   "id": "da7c75d4",
   "metadata": {},
   "outputs": [
    {
     "name": "stdout",
     "output_type": "stream",
     "text": [
      "Epoch 1/10\n",
      "4112/4112 [==============================] - 78s 19ms/step - loss: 0.5539 - accuracy: 0.7095 - val_loss: 0.4305 - val_accuracy: 0.8065\n",
      "Epoch 2/10\n",
      "4112/4112 [==============================] - 77s 19ms/step - loss: 0.4053 - accuracy: 0.8181 - val_loss: 0.3874 - val_accuracy: 0.8412\n",
      "Epoch 3/10\n",
      "4112/4112 [==============================] - 77s 19ms/step - loss: 0.3633 - accuracy: 0.8426 - val_loss: 0.3748 - val_accuracy: 0.8455\n",
      "Epoch 4/10\n",
      "4112/4112 [==============================] - 77s 19ms/step - loss: 0.3389 - accuracy: 0.8544 - val_loss: 0.3568 - val_accuracy: 0.8553\n",
      "Epoch 5/10\n",
      "4112/4112 [==============================] - 77s 19ms/step - loss: 0.3216 - accuracy: 0.8638 - val_loss: 0.3530 - val_accuracy: 0.8597\n",
      "Epoch 6/10\n",
      "4112/4112 [==============================] - 77s 19ms/step - loss: 0.3101 - accuracy: 0.8704 - val_loss: 0.3556 - val_accuracy: 0.8618\n",
      "Epoch 7/10\n",
      "4112/4112 [==============================] - 77s 19ms/step - loss: 0.2989 - accuracy: 0.8756 - val_loss: 0.3331 - val_accuracy: 0.8569\n",
      "Epoch 8/10\n",
      "4112/4112 [==============================] - 77s 19ms/step - loss: 0.2904 - accuracy: 0.8793 - val_loss: 0.3330 - val_accuracy: 0.8609\n",
      "Epoch 9/10\n",
      "4112/4112 [==============================] - 77s 19ms/step - loss: 0.2813 - accuracy: 0.8832 - val_loss: 0.3410 - val_accuracy: 0.8545\n",
      "Epoch 10/10\n",
      "4112/4112 [==============================] - 77s 19ms/step - loss: 0.2750 - accuracy: 0.8865 - val_loss: 0.3323 - val_accuracy: 0.8608\n"
     ]
    }
   ],
   "source": [
    "from tensorflow.keras.callbacks import EarlyStopping\n",
    "early_stopping = EarlyStopping(monitor='val_loss', min_delta=0, patience=2, mode='auto')\n",
    "\n",
    "history3 = model3.fit(X_train,\n",
    "                    y_train,\n",
    "                    epochs=10,\n",
    "                    batch_size=32,\n",
    "                    validation_data=(X_val, y_val),\n",
    "                    verbose=1,\n",
    "                    callbacks=[early_stopping])"
   ]
  },
  {
   "cell_type": "code",
   "execution_count": 49,
   "id": "f8fd9e23",
   "metadata": {},
   "outputs": [],
   "source": [
    "history3_dict = history3.history"
   ]
  },
  {
   "cell_type": "code",
   "execution_count": 50,
   "id": "2e0dd148",
   "metadata": {},
   "outputs": [
    {
     "data": {
      "image/png": "[encoded data removed]",
      "text/plain": [
       "<Figure size 432x288 with 1 Axes>"
      ]
     },
     "metadata": {
      "needs_background": "light"
     },
     "output_type": "display_data"
    }
   ],
   "source": [
    "acc = history3_dict['accuracy']\n",
    "val_acc = history3_dict['val_accuracy']\n",
    "loss = history3_dict['loss']\n",
    "val_loss = history3_dict['val_loss']\n",
    "\n",
    "epochs = range(1, len(acc) + 1)\n",
    "\n",
    "plt.plot(epochs, loss, 'bo', label='Training loss')\n",
    "plt.plot(epochs, val_loss, 'b', label='Validation loss')\n",
    "plt.title('Training and validation loss')\n",
    "plt.xlabel('Epochs')\n",
    "plt.ylabel('Loss')\n",
    "plt.legend()\n",
    "\n",
    "plt.show()"
   ]
  },
  {
   "cell_type": "code",
   "execution_count": 51,
   "id": "3f2d3808",
   "metadata": {},
   "outputs": [
    {
     "data": {
      "image/png": "[encoded data removed]",
      "text/plain": [
       "<Figure size 432x288 with 1 Axes>"
      ]
     },
     "metadata": {
      "needs_background": "light"
     },
     "output_type": "display_data"
    }
   ],
   "source": [
    "plt.clf()   \n",
    "\n",
    "plt.plot(epochs, acc, 'bo', label='Training acc')\n",
    "plt.plot(epochs, val_acc, 'b', label='Validation acc')\n",
    "plt.title('Training and validation accuracy')\n",
    "plt.xlabel('Epochs')\n",
    "plt.ylabel('Accuracy')\n",
    "plt.legend()\n",
    "\n",
    "plt.show()"
   ]
  },
  {
   "cell_type": "markdown",
   "id": "376d703e",
   "metadata": {},
   "source": [
    "## 회고"
   ]
  },
  {
   "cell_type": "markdown",
   "id": "2ba0d9fb",
   "metadata": {},
   "source": [
    "* 배운 점\n",
    "  - 자연어의 전처리 과정에 대해서 공부하였다. 특히 Embedding 과정을 하나하나 실행하면서 필요한것들을 배웠다.\n",
    "* 아쉬운 점\n",
    "  - 생각보다 학습에 시간이 오래걸려서 많은 실험을 진행하지 못했다. 추가적으로 다양한 모델과 하이퍼파라미터에 대해 실험하여 성능을 향상시켜봐야겠다.\n",
    "* 느낀 점\n",
    "  - NLP가 CV에 비해 막연한 감이 있었는데 직접 전체 프로세스를 겪어보니 막연히 어렵다 생각했던 부분들이 많이 해소되었다.\n",
    "* 어려웠던 점\n",
    "  - 임베딩 과정을 구현하면서 자잘한 에러들이 많아 시간이 오래걸렸다. 과정 별로 shape이 어떻게 변하는 지 확실히 알고 있어야겠다."
   ]
  }
 ],
 "metadata": {
  "kernelspec": {
   "display_name": "Python 3 (ipykernel)",
   "language": "python",
   "name": "python3"
  },
  "language_info": {
   "codemirror_mode": {
    "name": "ipython",
    "version": 3
   },
   "file_extension": ".py",
   "mimetype": "text/x-python",
   "name": "python",
   "nbconvert_exporter": "python",
   "pygments_lexer": "ipython3",
   "version": "3.9.7"
  }
 },
 "nbformat": 4,
 "nbformat_minor": 5
}
