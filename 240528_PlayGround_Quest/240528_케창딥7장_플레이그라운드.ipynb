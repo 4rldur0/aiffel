{
 "cells": [
  {
   "cell_type": "code",
   "execution_count": 1,
   "id": "e1b4e210",
   "metadata": {},
   "outputs": [],
   "source": [
    "from tensorflow import keras\n",
    "from tensorflow.keras import layers"
   ]
  },
  {
   "cell_type": "markdown",
   "id": "56bb128f",
   "metadata": {},
   "source": [
    "# Sequential 모델"
   ]
  },
  {
   "cell_type": "code",
   "execution_count": 4,
   "id": "45f39378",
   "metadata": {},
   "outputs": [],
   "source": [
    "model = keras.Sequential([\n",
    "    layers.Dense(64, activation='relu'),\n",
    "    layers.Dense(10, activation='softmax')\n",
    "])"
   ]
  },
  {
   "cell_type": "code",
   "execution_count": 5,
   "id": "954f4e2e",
   "metadata": {},
   "outputs": [],
   "source": [
    "model = keras.Sequential()\n",
    "model.add(layers.Dense(64, activation='relu'))\n",
    "model.add(layers.Dense(10, activation='softmax'))"
   ]
  },
  {
   "cell_type": "code",
   "execution_count": 10,
   "id": "2029945b",
   "metadata": {},
   "outputs": [],
   "source": [
    "model.build(input_shape=(None, 3))"
   ]
  },
  {
   "cell_type": "code",
   "execution_count": 11,
   "id": "fb696e32",
   "metadata": {},
   "outputs": [
    {
     "name": "stdout",
     "output_type": "stream",
     "text": [
      "Model: \"sequential_1\"\n",
      "_________________________________________________________________\n",
      "Layer (type)                 Output Shape              Param #   \n",
      "=================================================================\n",
      "dense_3 (Dense)              (None, 64)                256       \n",
      "_________________________________________________________________\n",
      "dense_4 (Dense)              (None, 10)                650       \n",
      "=================================================================\n",
      "Total params: 906\n",
      "Trainable params: 906\n",
      "Non-trainable params: 0\n",
      "_________________________________________________________________\n"
     ]
    }
   ],
   "source": [
    "model.summary()"
   ]
  },
  {
   "cell_type": "code",
   "execution_count": 12,
   "id": "445235fc",
   "metadata": {},
   "outputs": [
    {
     "name": "stdout",
     "output_type": "stream",
     "text": [
      "Model: \"my_example_model\"\n",
      "_________________________________________________________________\n",
      "Layer (type)                 Output Shape              Param #   \n",
      "=================================================================\n",
      "my_first_layer (Dense)       (None, 64)                256       \n",
      "_________________________________________________________________\n",
      "my_last_layer (Dense)        (None, 10)                650       \n",
      "=================================================================\n",
      "Total params: 906\n",
      "Trainable params: 906\n",
      "Non-trainable params: 0\n",
      "_________________________________________________________________\n"
     ]
    }
   ],
   "source": [
    "model = keras.Sequential(name=\"my_example_model\")\n",
    "model.add(layers.Dense(64, activation='relu', name='my_first_layer'))\n",
    "model.add(layers.Dense(10, activation='softmax', name='my_last_layer'))\n",
    "model.build((None, 3))\n",
    "model.summary()"
   ]
  },
  {
   "cell_type": "code",
   "execution_count": 13,
   "id": "0e7b3204",
   "metadata": {},
   "outputs": [
    {
     "name": "stdout",
     "output_type": "stream",
     "text": [
      "Model: \"sequential_2\"\n",
      "_________________________________________________________________\n",
      "Layer (type)                 Output Shape              Param #   \n",
      "=================================================================\n",
      "dense_5 (Dense)              (None, 64)                256       \n",
      "=================================================================\n",
      "Total params: 256\n",
      "Trainable params: 256\n",
      "Non-trainable params: 0\n",
      "_________________________________________________________________\n"
     ]
    }
   ],
   "source": [
    "model = keras.Sequential()\n",
    "model.add(keras.Input(shape=(3,)))\n",
    "model.add(layers.Dense(64, activation='relu'))\n",
    "model.summary()"
   ]
  },
  {
   "cell_type": "code",
   "execution_count": 14,
   "id": "cd2910bf",
   "metadata": {},
   "outputs": [
    {
     "name": "stdout",
     "output_type": "stream",
     "text": [
      "Model: \"sequential_2\"\n",
      "_________________________________________________________________\n",
      "Layer (type)                 Output Shape              Param #   \n",
      "=================================================================\n",
      "dense_5 (Dense)              (None, 64)                256       \n",
      "_________________________________________________________________\n",
      "dense_6 (Dense)              (None, 10)                650       \n",
      "=================================================================\n",
      "Total params: 906\n",
      "Trainable params: 906\n",
      "Non-trainable params: 0\n",
      "_________________________________________________________________\n"
     ]
    }
   ],
   "source": [
    "model.add(layers.Dense(10, activation='softmax'))\n",
    "model.summary()"
   ]
  },
  {
   "cell_type": "markdown",
   "id": "943367b0",
   "metadata": {},
   "source": [
    "#### 모델 선정 이유\n",
    "Sequential 모델 생성 방법을 익히기 위해 간단한 Dense Layer 실습\n",
    "#### Metrics 선정 이유\n",
    "output 10개를 가정하여 softmax 사용\n",
    "#### Loss 선정 이유\n",
    "모델 생성 실습으로 Loss 미선정\n",
    "#### 데이터 분할\n",
    "모델 생성 실습으로 데이터 미사용\n",
    "#### 하이퍼 파라미터 조정\n",
    "모델 생성 실습으로 하이퍼 파라미터 미사용\n",
    "#### 시각화\n",
    "model.summary()를 통한 Layer 시각화\n",
    "#### 실험 결과 기록\n",
    "각 모델 별 model.summary()를 통해 결과 확인  \n",
    "\n",
    "---"
   ]
  },
  {
   "cell_type": "markdown",
   "id": "fb9651f4",
   "metadata": {},
   "source": [
    "# Functional API 모델"
   ]
  },
  {
   "cell_type": "code",
   "execution_count": 15,
   "id": "640e9d53",
   "metadata": {},
   "outputs": [],
   "source": [
    "inputs = keras.Input(shape=(3,), name=\"my_input\")\n",
    "features = layers.Dense(64, activation='relu')(inputs)\n",
    "outputs = layers.Dense(10, activation='softmax')(features)\n",
    "model = keras.Model(inputs=inputs, outputs=outputs)"
   ]
  },
  {
   "cell_type": "code",
   "execution_count": 16,
   "id": "a40cc0d2",
   "metadata": {},
   "outputs": [
    {
     "name": "stdout",
     "output_type": "stream",
     "text": [
      "Model: \"model\"\n",
      "_________________________________________________________________\n",
      "Layer (type)                 Output Shape              Param #   \n",
      "=================================================================\n",
      "my_input (InputLayer)        [(None, 3)]               0         \n",
      "_________________________________________________________________\n",
      "dense_7 (Dense)              (None, 64)                256       \n",
      "_________________________________________________________________\n",
      "dense_8 (Dense)              (None, 10)                650       \n",
      "=================================================================\n",
      "Total params: 906\n",
      "Trainable params: 906\n",
      "Non-trainable params: 0\n",
      "_________________________________________________________________\n"
     ]
    }
   ],
   "source": [
    "model.summary()"
   ]
  },
  {
   "cell_type": "code",
   "execution_count": 27,
   "id": "fe5363ac",
   "metadata": {},
   "outputs": [],
   "source": [
    "# 다중 입력, 다중 출력 함수형 모델\n",
    "\n",
    "vocabulary_size = 10000\n",
    "num_tags = 100\n",
    "num_departments = 4\n",
    "\n",
    "title = keras.Input(shape=(vocabulary_size,), name=\"title\")\n",
    "text_body = keras.Input(shape=(vocabulary_size,), name=\"text_body\")\n",
    "tags = keras.Input(shape=(num_tags,), name=\"tags\")\n",
    "\n",
    "features = layers.Concatenate()([title, text_body, tags])\n",
    "features = layers.Dense(64, activation=\"relu\")(features)\n",
    "\n",
    "priority = layers.Dense(1, activation=\"sigmoid\", name=\"priority\")(features)\n",
    "department = layers.Dense(\n",
    "    num_departments, activation=\"softmax\", name=\"department\")(features)\n",
    "\n",
    "model = keras.Model(inputs=[title, text_body, tags], outputs=[priority, department])"
   ]
  },
  {
   "cell_type": "code",
   "execution_count": 28,
   "id": "02321a36",
   "metadata": {},
   "outputs": [
    {
     "name": "stdout",
     "output_type": "stream",
     "text": [
      "Model: \"model_4\"\n",
      "__________________________________________________________________________________________________\n",
      "Layer (type)                    Output Shape         Param #     Connected to                     \n",
      "==================================================================================================\n",
      "title (InputLayer)              [(None, 10000)]      0                                            \n",
      "__________________________________________________________________________________________________\n",
      "text_body (InputLayer)          [(None, 10000)]      0                                            \n",
      "__________________________________________________________________________________________________\n",
      "tags (InputLayer)               [(None, 100)]        0                                            \n",
      "__________________________________________________________________________________________________\n",
      "concatenate_3 (Concatenate)     (None, 20100)        0           title[0][0]                      \n",
      "                                                                 text_body[0][0]                  \n",
      "                                                                 tags[0][0]                       \n",
      "__________________________________________________________________________________________________\n",
      "dense_12 (Dense)                (None, 64)           1286464     concatenate_3[0][0]              \n",
      "__________________________________________________________________________________________________\n",
      "priority (Dense)                (None, 1)            65          dense_12[0][0]                   \n",
      "__________________________________________________________________________________________________\n",
      "department (Dense)              (None, 4)            260         dense_12[0][0]                   \n",
      "==================================================================================================\n",
      "Total params: 1,286,789\n",
      "Trainable params: 1,286,789\n",
      "Non-trainable params: 0\n",
      "__________________________________________________________________________________________________\n"
     ]
    }
   ],
   "source": [
    "model.summary()"
   ]
  },
  {
   "cell_type": "code",
   "execution_count": 30,
   "id": "142a0073",
   "metadata": {},
   "outputs": [
    {
     "name": "stdout",
     "output_type": "stream",
     "text": [
      "40/40 [==============================] - 2s 25ms/step - loss: 37.6149 - priority_loss: 0.3333 - department_loss: 37.2815 - priority_mean_absolute_error: 0.4986 - department_accuracy: 0.2086\n",
      "40/40 [==============================] - 0s 8ms/step - loss: 15.5748 - priority_loss: 0.3394 - department_loss: 15.2354 - priority_mean_absolute_error: 0.5056 - department_accuracy: 0.2273\n"
     ]
    }
   ],
   "source": [
    "# 입력과 타깃 배열 리스트를 전달하여 모델 훈련하기\n",
    "\n",
    "import numpy as np\n",
    "\n",
    "num_samples = 1280\n",
    "\n",
    "# 더미 입력 데이터\n",
    "title_data = np.random.randint(0, 2, size=(num_samples, vocabulary_size))\n",
    "text_body_data = np.random.randint(0, 2, size=(num_samples, vocabulary_size))\n",
    "tags_data = np.random.randint(0, 2, size=(num_samples, num_tags))\n",
    "\n",
    "# 더미 타깃 데이터\n",
    "priority_data = np.random.random(size=(num_samples, 1))\n",
    "department_data = np.random.randint(0, 2, size=(num_samples, num_departments))\n",
    "\n",
    "model.compile(optimizer=\"rmsprop\",\n",
    "              loss=[\"mean_squared_error\", \"categorical_crossentropy\"],\n",
    "              metrics=[[\"mean_absolute_error\"], [\"accuracy\"]])\n",
    "model.fit([title_data, text_body_data, tags_data],\n",
    "          [priority_data, department_data],\n",
    "          epochs=1)\n",
    "model.evaluate([title_data, text_body_data, tags_data],\n",
    "               [priority_data, department_data])\n",
    "priority_preds, department_preds = model.predict([title_data, text_body_data, tags_data])"
   ]
  },
  {
   "cell_type": "code",
   "execution_count": 31,
   "id": "009ef5fb",
   "metadata": {},
   "outputs": [
    {
     "name": "stdout",
     "output_type": "stream",
     "text": [
      "40/40 [==============================] - 2s 25ms/step - loss: 51.1010 - priority_loss: 0.3394 - department_loss: 50.7616 - priority_mean_absolute_error: 0.5056 - department_accuracy: 0.2602\n",
      "40/40 [==============================] - 1s 8ms/step - loss: 36.7386 - priority_loss: 0.3394 - department_loss: 36.3992 - priority_mean_absolute_error: 0.5056 - department_accuracy: 0.1594\n"
     ]
    }
   ],
   "source": [
    "# 입력과 타깃 배열을 딕셔러니를 전달하여 모델 훈련하기\n",
    "\n",
    "model.compile(optimizer=\"rmsprop\",\n",
    "              loss={\"priority\": \"mean_squared_error\", \"department\": \"categorical_crossentropy\"},\n",
    "              metrics={\"priority\": [\"mean_absolute_error\"], \"department\": [\"accuracy\"]})\n",
    "\n",
    "model.fit({\"title\": title_data, \"text_body\": text_body_data, \"tags\": tags_data},\n",
    "          {\"priority\": priority_data, \"department\": department_data},\n",
    "          epochs=1)\n",
    "\n",
    "model.evaluate({\"title\": title_data, \"text_body\": text_body_data, \"tags\": tags_data},\n",
    "               {\"priority\": priority_data, \"department\": department_data})\n",
    "\n",
    "priority_preds, department_preds = model.predict(\n",
    "    {\"title\": title_data, \"text_body\": text_body_data, \"tags\": tags_data})"
   ]
  },
  {
   "cell_type": "code",
   "execution_count": 34,
   "id": "cd5fb4c2",
   "metadata": {},
   "outputs": [
    {
     "data": {
      "image/png": "[encoded data removed]",
      "text/plain": [
       "<IPython.core.display.Image object>"
      ]
     },
     "execution_count": 34,
     "metadata": {},
     "output_type": "execute_result"
    }
   ],
   "source": [
    "keras.utils.plot_model(model, show_shapes=True)"
   ]
  },
  {
   "cell_type": "code",
   "execution_count": 35,
   "id": "5c36f4d3",
   "metadata": {},
   "outputs": [
    {
     "data": {
      "text/plain": [
       "[<keras.engine.input_layer.InputLayer at 0x794a36f48d60>,\n",
       " <keras.engine.input_layer.InputLayer at 0x794a36dfbfa0>,\n",
       " <keras.engine.input_layer.InputLayer at 0x794a36d9cc70>,\n",
       " <keras.layers.merge.Concatenate at 0x794a36f48a60>,\n",
       " <keras.layers.core.Dense at 0x794a36f48520>,\n",
       " <keras.layers.core.Dense at 0x794a36d829d0>,\n",
       " <keras.layers.core.Dense at 0x794a36d829a0>]"
      ]
     },
     "execution_count": 35,
     "metadata": {},
     "output_type": "execute_result"
    }
   ],
   "source": [
    "model.layers"
   ]
  },
  {
   "cell_type": "code",
   "execution_count": 36,
   "id": "d42ae82c",
   "metadata": {},
   "outputs": [
    {
     "data": {
      "text/plain": [
       "[<KerasTensor: shape=(None, 10000) dtype=float32 (created by layer 'title')>,\n",
       " <KerasTensor: shape=(None, 10000) dtype=float32 (created by layer 'text_body')>,\n",
       " <KerasTensor: shape=(None, 100) dtype=float32 (created by layer 'tags')>]"
      ]
     },
     "execution_count": 36,
     "metadata": {},
     "output_type": "execute_result"
    }
   ],
   "source": [
    "model.layers[3].input"
   ]
  },
  {
   "cell_type": "code",
   "execution_count": 37,
   "id": "5de301de",
   "metadata": {},
   "outputs": [
    {
     "data": {
      "text/plain": [
       "<KerasTensor: shape=(None, 20100) dtype=float32 (created by layer 'concatenate_3')>"
      ]
     },
     "execution_count": 37,
     "metadata": {},
     "output_type": "execute_result"
    }
   ],
   "source": [
    "model.layers[3].output"
   ]
  },
  {
   "cell_type": "code",
   "execution_count": 38,
   "id": "cac5f422",
   "metadata": {},
   "outputs": [],
   "source": [
    "# 중간층의 출력을 재사용해서 새로운 모델 만들기\n",
    "\n",
    "features = model.layers[4].output\n",
    "difficulty = layers.Dense(3, activation=\"softmax\", name=\"difficulty\")(features)\n",
    "\n",
    "new_model = keras.Model(\n",
    "    inputs=[title, text_body, tags],\n",
    "    outputs=[priority, department, difficulty])"
   ]
  },
  {
   "cell_type": "code",
   "execution_count": 39,
   "id": "88d6af46",
   "metadata": {
    "scrolled": true
   },
   "outputs": [
    {
     "data": {
      "image/png": "[encoded data removed]",
      "text/plain": [
       "<IPython.core.display.Image object>"
      ]
     },
     "execution_count": 39,
     "metadata": {},
     "output_type": "execute_result"
    }
   ],
   "source": [
    "keras.utils.plot_model(new_model, show_shapes=True)"
   ]
  },
  {
   "cell_type": "markdown",
   "id": "a7e9bb94",
   "metadata": {},
   "source": [
    "#### 모델 선정 이유\n",
    "Functional 모델 생성 방법을 익히기 위해 다중 입력, 다중 출력 모델 구성\n",
    "#### Metrics 선정 이유\n",
    "random 데이터에 대한 모델 실습으로 간단한 metrics 사용   \n",
    "\"priority\": \"mean_absolute_error\" -> mae, mse, rmse 모두 사용가능   \n",
    "\"department\": \"accuracy\"\n",
    "\n",
    "#### Loss 선정 이유\n",
    "\"priority\": \"mean_squared_error\" -> 실수형 변수  \n",
    "\"department\": \"categorical_crossentropy\" -> 다중 카테고리 타겟  \n",
    "\"difficulty\": \"softmax\" -> 3개의 클래스 분류  \n",
    "  \n",
    "#### 데이터 분할\n",
    "모델 생성 실습으로 랜덤 더미 데이터 사용\n",
    "#### 하이퍼 파라미터 조정\n",
    "모델 생성 실습으로 하이퍼 파라미터 미조정\n",
    "#### 시각화\n",
    "model.summary(), keras.utils.plot_model()을 통한 Layer 시각화\n",
    "#### 실험 결과 기록\n",
    "각 모델 별 model.summary(), plot_model()을 통해 결과 확인  \n",
    "\n",
    "---"
   ]
  },
  {
   "cell_type": "markdown",
   "id": "2a894262",
   "metadata": {},
   "source": [
    "# Subclassing 모델"
   ]
  },
  {
   "cell_type": "code",
   "execution_count": 40,
   "id": "fe80767a",
   "metadata": {},
   "outputs": [],
   "source": [
    "class CustomerTicketModel(keras.Model):\n",
    "\n",
    "    def __init__(self, num_departments):\n",
    "        super().__init__()\n",
    "        self.concat_layer = layers.Concatenate()\n",
    "        self.mixing_layer = layers.Dense(64, activation=\"relu\")\n",
    "        self.priority_scorer = layers.Dense(1, activation=\"sigmoid\")\n",
    "        self.department_classifier = layers.Dense(\n",
    "            num_departments, activation=\"softmax\")\n",
    "\n",
    "    def call(self, inputs):\n",
    "        title = inputs[\"title\"]\n",
    "        text_body = inputs[\"text_body\"]\n",
    "        tags = inputs[\"tags\"]\n",
    "\n",
    "        features = self.concat_layer([title, text_body, tags])\n",
    "        features = self.mixing_layer(features)\n",
    "        priority = self.priority_scorer(features)\n",
    "        department = self.department_classifier(features)\n",
    "        return priority, department"
   ]
  },
  {
   "cell_type": "code",
   "execution_count": 41,
   "id": "57c06ad6",
   "metadata": {},
   "outputs": [],
   "source": [
    "model = CustomerTicketModel(num_departments=4)\n",
    "\n",
    "priority, department = model(\n",
    "    {\"title\": title_data, \"text_body\": text_body_data, \"tags\": tags_data})"
   ]
  },
  {
   "cell_type": "code",
   "execution_count": 42,
   "id": "deb47113",
   "metadata": {},
   "outputs": [
    {
     "name": "stdout",
     "output_type": "stream",
     "text": [
      "40/40 [==============================] - 2s 24ms/step - loss: 26.9104 - output_1_loss: 0.3164 - output_2_loss: 26.5941 - output_1_mean_absolute_error: 0.4817 - output_2_accuracy: 0.2172\n",
      "40/40 [==============================] - 1s 8ms/step - loss: 20.7993 - output_1_loss: 0.3283 - output_2_loss: 20.4710 - output_1_mean_absolute_error: 0.4944 - output_2_accuracy: 0.5750\n"
     ]
    }
   ],
   "source": [
    "model.compile(optimizer=\"rmsprop\",\n",
    "              loss=[\"mean_squared_error\", \"categorical_crossentropy\"],\n",
    "              metrics=[[\"mean_absolute_error\"], [\"accuracy\"]])\n",
    "model.fit({\"title\": title_data,\n",
    "           \"text_body\": text_body_data,\n",
    "           \"tags\": tags_data},\n",
    "          [priority_data, department_data],\n",
    "          epochs=1)\n",
    "model.evaluate({\"title\": title_data,\n",
    "                \"text_body\": text_body_data,\n",
    "                \"tags\": tags_data},\n",
    "               [priority_data, department_data])\n",
    "priority_preds, department_preds = model.predict({\"title\": title_data,\n",
    "                                                  \"text_body\": text_body_data,\n",
    "                                                  \"tags\": tags_data})"
   ]
  },
  {
   "cell_type": "markdown",
   "id": "b4f9628a",
   "metadata": {},
   "source": [
    "Model 서브클래싱 워크플로는 모델을 만드는 가장 유연한 방법이다.  \n",
    "층의 유향 비순환 그래프(directed acyclic graph)로 표현할 수 없는 모델을 만들 수 있다.  \n",
    "  예시) call() 메소드가 for 루프 안에서 층을 사용하거나 재귀적으로 호출하는 모델  \n",
    "  \n",
    "하지만 잠재적인 오류 가능성이 훨씬 커서 결과적으로 더 많은 디버깅 작업을 해야한다.  \n",
    "함수형 모델을 명시적인 데이터 구조인 층의 그래프이므로 출력하고 조사하고 수정할 수 있지만  \n",
    "서브클래싱 모델은 원시코드가 담긴 call() 메서드를 가진 파이썬 클래스이다.  \n",
    "층이 서로 연결되는 방식이 call() 메서드 안에 감추어져 이 정보를 활용할 수 없다.  \n",
    "즉, summary()나 plot_model() 함수로 모델의 구조를 그릴 수 없다.  "
   ]
  },
  {
   "cell_type": "markdown",
   "id": "7f71fc27",
   "metadata": {},
   "source": [
    "# 혼합 모델"
   ]
  },
  {
   "cell_type": "code",
   "execution_count": 43,
   "id": "9a712fe5",
   "metadata": {},
   "outputs": [],
   "source": [
    "# 서브클래싱한 모델을 포함하는 함수형 모델 만들기\n",
    "\n",
    "class Classifier(keras.Model):\n",
    "\n",
    "    def __init__(self, num_classes=2):\n",
    "        super().__init__()\n",
    "        if num_classes == 2:\n",
    "            num_units = 1\n",
    "            activation = \"sigmoid\"\n",
    "        else:\n",
    "            num_units = num_classes\n",
    "            activation = \"softmax\"\n",
    "        self.dense = layers.Dense(num_units, activation=activation)\n",
    "\n",
    "    def call(self, inputs):\n",
    "        return self.dense(inputs)\n",
    "\n",
    "inputs = keras.Input(shape=(3,))\n",
    "features = layers.Dense(64, activation=\"relu\")(inputs)\n",
    "outputs = Classifier(num_classes=10)(features)\n",
    "model = keras.Model(inputs=inputs, outputs=outputs)"
   ]
  },
  {
   "cell_type": "code",
   "execution_count": 45,
   "id": "39d20532",
   "metadata": {},
   "outputs": [],
   "source": [
    "# 함수형 모델을 포함하는 서브클래싱 모델 만들기\n",
    "\n",
    "inputs = keras.Input(shape=(64,))\n",
    "outputs = layers.Dense(1, activation=\"sigmoid\")(inputs)\n",
    "binary_classifier = keras.Model(inputs=inputs, outputs=outputs)\n",
    "\n",
    "class MyModel(keras.Model):\n",
    "\n",
    "    def __init__(self, num_classes=2):\n",
    "        super().__init__()\n",
    "        self.dense = layers.Dense(64, activation=\"relu\")\n",
    "        self.classifier = binary_classifier\n",
    "\n",
    "    def call(self, inputs):\n",
    "        features = self.dense(inputs)\n",
    "        return self.classifier(features)\n",
    "\n",
    "model = MyModel()"
   ]
  },
  {
   "cell_type": "markdown",
   "id": "4681ed04",
   "metadata": {},
   "source": [
    "# 내장된 훈련 루프와 평가 루프 사용하기"
   ]
  },
  {
   "cell_type": "code",
   "execution_count": 46,
   "id": "6a10e555",
   "metadata": {},
   "outputs": [
    {
     "name": "stdout",
     "output_type": "stream",
     "text": [
      "Downloading data from https://storage.googleapis.com/tensorflow/tf-keras-datasets/mnist.npz\n",
      "11493376/11490434 [==============================] - 0s 0us/step\n",
      "11501568/11490434 [==============================] - 0s 0us/step\n",
      "Epoch 1/3\n",
      "1563/1563 [==============================] - 11s 7ms/step - loss: 0.2953 - accuracy: 0.9130 - val_loss: 0.1486 - val_accuracy: 0.9570\n",
      "Epoch 2/3\n",
      "1563/1563 [==============================] - 10s 7ms/step - loss: 0.1657 - accuracy: 0.9528 - val_loss: 0.1212 - val_accuracy: 0.9674\n",
      "Epoch 3/3\n",
      "1563/1563 [==============================] - 10s 6ms/step - loss: 0.1376 - accuracy: 0.9630 - val_loss: 0.1111 - val_accuracy: 0.9704\n",
      "313/313 [==============================] - 1s 2ms/step - loss: 0.1030 - accuracy: 0.9725\n"
     ]
    }
   ],
   "source": [
    "from tensorflow.keras.datasets import mnist\n",
    "\n",
    "def get_mnist_model():\n",
    "    inputs = keras.Input(shape=(28 * 28,))\n",
    "    features = layers.Dense(512, activation=\"relu\")(inputs)\n",
    "    features = layers.Dropout(0.5)(features)\n",
    "    outputs = layers.Dense(10, activation=\"softmax\")(features)\n",
    "    model = keras.Model(inputs, outputs)\n",
    "    return model\n",
    "\n",
    "(images, labels), (test_images, test_labels) = mnist.load_data()\n",
    "images = images.reshape((60000, 28 * 28)).astype(\"float32\") / 255\n",
    "test_images = test_images.reshape((10000, 28 * 28)).astype(\"float32\") / 255\n",
    "train_images, val_images = images[10000:], images[:10000]\n",
    "train_labels, val_labels = labels[10000:], labels[:10000]\n",
    "\n",
    "model = get_mnist_model()\n",
    "model.compile(optimizer=\"rmsprop\",\n",
    "              loss=\"sparse_categorical_crossentropy\",\n",
    "              metrics=[\"accuracy\"])\n",
    "model.fit(train_images, train_labels,\n",
    "          epochs=3,\n",
    "          validation_data=(val_images, val_labels))\n",
    "test_metrics = model.evaluate(test_images, test_labels)\n",
    "predictions = model.predict(test_images)"
   ]
  },
  {
   "cell_type": "markdown",
   "id": "3fe070af",
   "metadata": {},
   "source": [
    "## 사용자 정의 지표 만들기"
   ]
  },
  {
   "cell_type": "code",
   "execution_count": 47,
   "id": "d6b44640",
   "metadata": {},
   "outputs": [],
   "source": [
    "# Metric 클래스를 상속하여 사용자 정의 지표 구현하기\n",
    "\n",
    "import tensorflow as tf\n",
    "\n",
    "class RootMeanSquaredError(keras.metrics.Metric):\n",
    "\n",
    "    def __init__(self, name=\"rmse\", **kwargs):\n",
    "        super().__init__(name=name, **kwargs)\n",
    "        self.mse_sum = self.add_weight(name=\"mse_sum\", initializer=\"zeros\")\n",
    "        self.total_samples = self.add_weight(\n",
    "            name=\"total_samples\", initializer=\"zeros\", dtype=\"int32\")\n",
    "\n",
    "    def update_state(self, y_true, y_pred, sample_weight=None):\n",
    "        y_true = tf.one_hot(y_true, depth=tf.shape(y_pred)[1])\n",
    "        mse = tf.reduce_sum(tf.square(y_true - y_pred))\n",
    "        self.mse_sum.assign_add(mse)\n",
    "        num_samples = tf.shape(y_pred)[0]\n",
    "        self.total_samples.assign_add(num_samples)\n",
    "\n",
    "    # 현재 지표 값 반환\n",
    "    def result(self):\n",
    "        return tf.sqrt(self.mse_sum / tf.cast(self.total_samples, tf.float32))\n",
    "\n",
    "    # 객체를 다시 생성하지 않고 상태를 초기화 하는 방법\n",
    "    # 이렇게 함으로써 지표 객체 하나를 서로 다른 훈련 반복에 사용하거나 훈련과 평가에 모두 사용할 수 있음\n",
    "    def reset_state(self):\n",
    "        self.mse_sum.assign(0.)\n",
    "        self.total_samples.assign(0)"
   ]
  },
  {
   "cell_type": "code",
   "execution_count": 48,
   "id": "697e5aa6",
   "metadata": {},
   "outputs": [
    {
     "name": "stdout",
     "output_type": "stream",
     "text": [
      "Epoch 1/3\n",
      "1563/1563 [==============================] - 12s 7ms/step - loss: 0.2917 - accuracy: 0.9124 - rmse: 7.1833 - val_loss: 0.1721 - val_accuracy: 0.9531 - val_rmse: 7.3596\n",
      "Epoch 2/3\n",
      "1563/1563 [==============================] - 11s 7ms/step - loss: 0.1643 - accuracy: 0.9545 - rmse: 7.3563 - val_loss: 0.1238 - val_accuracy: 0.9670 - val_rmse: 7.4000\n",
      "Epoch 3/3\n",
      "1563/1563 [==============================] - 10s 7ms/step - loss: 0.1370 - accuracy: 0.9627 - rmse: 7.3881 - val_loss: 0.1156 - val_accuracy: 0.9707 - val_rmse: 7.4236\n",
      "313/313 [==============================] - 1s 2ms/step - loss: 0.1088 - accuracy: 0.9727 - rmse: 7.4393\n"
     ]
    }
   ],
   "source": [
    "model = get_mnist_model()\n",
    "model.compile(optimizer=\"rmsprop\",\n",
    "              loss=\"sparse_categorical_crossentropy\",\n",
    "              metrics=[\"accuracy\", RootMeanSquaredError()])\n",
    "model.fit(train_images, train_labels,\n",
    "          epochs=3,\n",
    "          validation_data=(val_images, val_labels))\n",
    "test_metrics = model.evaluate(test_images, test_labels)"
   ]
  },
  {
   "cell_type": "markdown",
   "id": "5df236fb",
   "metadata": {},
   "source": [
    "## 콜백 사용하기"
   ]
  },
  {
   "cell_type": "markdown",
   "id": "984d19b7",
   "metadata": {},
   "source": [
    "### 콜백을 사용하는 몇 가지 사례  \n",
    "1. 모델 체크포인트 저장 : 훈련 중 특정 지점에서 모델의 현재 가중치 저장  \n",
    "2. 조기 종료 : 검증 손실이 더이상 향상되지 않을때 가장 좋은 모델 저장하고 훈련 중지  \n",
    "3. 훈련하는 동안 하이퍼파라미터 값을 동적으로 조정(ex. learning rate)  \n",
    "4. 훈련과 검증 지표를 로그에 기록하거나 모델이 학습한 표현이 업데이트 될때마다 시각화  "
   ]
  },
  {
   "cell_type": "code",
   "execution_count": 50,
   "id": "90aa3253",
   "metadata": {},
   "outputs": [
    {
     "name": "stdout",
     "output_type": "stream",
     "text": [
      "Epoch 1/10\n",
      "1563/1563 [==============================] - 11s 7ms/step - loss: 0.2958 - accuracy: 0.9120 - val_loss: 0.1724 - val_accuracy: 0.9527\n",
      "Epoch 2/10\n",
      "1563/1563 [==============================] - 10s 6ms/step - loss: 0.1650 - accuracy: 0.9541 - val_loss: 0.1297 - val_accuracy: 0.9657\n",
      "Epoch 3/10\n",
      "1563/1563 [==============================] - 10s 7ms/step - loss: 0.1381 - accuracy: 0.9624 - val_loss: 0.1102 - val_accuracy: 0.9703\n",
      "Epoch 4/10\n",
      "1563/1563 [==============================] - 10s 7ms/step - loss: 0.1250 - accuracy: 0.9677 - val_loss: 0.1068 - val_accuracy: 0.9747\n",
      "Epoch 5/10\n",
      "1563/1563 [==============================] - 10s 6ms/step - loss: 0.1143 - accuracy: 0.9719 - val_loss: 0.1060 - val_accuracy: 0.9751\n",
      "Epoch 6/10\n",
      "1563/1563 [==============================] - 10s 7ms/step - loss: 0.1065 - accuracy: 0.9736 - val_loss: 0.1097 - val_accuracy: 0.9756\n",
      "Epoch 7/10\n",
      "1563/1563 [==============================] - 10s 7ms/step - loss: 0.1051 - accuracy: 0.9757 - val_loss: 0.1010 - val_accuracy: 0.9763\n",
      "Epoch 8/10\n",
      "1563/1563 [==============================] - 10s 7ms/step - loss: 0.0975 - accuracy: 0.9770 - val_loss: 0.1099 - val_accuracy: 0.9781\n",
      "Epoch 9/10\n",
      "1563/1563 [==============================] - 10s 7ms/step - loss: 0.0961 - accuracy: 0.9777 - val_loss: 0.1164 - val_accuracy: 0.9768\n",
      "Epoch 10/10\n",
      "1563/1563 [==============================] - 10s 6ms/step - loss: 0.0934 - accuracy: 0.9779 - val_loss: 0.1098 - val_accuracy: 0.9794\n"
     ]
    },
    {
     "data": {
      "text/plain": [
       "<keras.callbacks.History at 0x794a368d40d0>"
      ]
     },
     "execution_count": 50,
     "metadata": {},
     "output_type": "execute_result"
    }
   ],
   "source": [
    "# fit() 메서드에서 callbacks 매개변수 사용하기\n",
    "\n",
    "callbacks_list = [\n",
    "    keras.callbacks.EarlyStopping(\n",
    "        monitor=\"val_accuracy\",\n",
    "        patience=2,\n",
    "    ),\n",
    "    keras.callbacks.ModelCheckpoint(\n",
    "        filepath=\"checkpoint_path.h5\",\n",
    "        monitor=\"val_loss\",\n",
    "        save_best_only=True,\n",
    "    )\n",
    "]\n",
    "model = get_mnist_model()\n",
    "model.compile(optimizer=\"rmsprop\",\n",
    "              loss=\"sparse_categorical_crossentropy\",\n",
    "              metrics=[\"accuracy\"])\n",
    "model.fit(train_images, train_labels,\n",
    "          epochs=10,\n",
    "          callbacks=callbacks_list,\n",
    "          validation_data=(val_images, val_labels))"
   ]
  },
  {
   "cell_type": "code",
   "execution_count": 51,
   "id": "f94b0cb3",
   "metadata": {},
   "outputs": [],
   "source": [
    "model = keras.models.load_model(\"checkpoint_path.h5\")"
   ]
  },
  {
   "cell_type": "code",
   "execution_count": 53,
   "id": "58fe73bc",
   "metadata": {},
   "outputs": [
    {
     "name": "stdout",
     "output_type": "stream",
     "text": [
      "313/313 [==============================] - 1s 2ms/step - loss: 0.1010 - accuracy: 0.9763\n"
     ]
    },
    {
     "data": {
      "text/plain": [
       "[0.10096320509910583, 0.9763000011444092]"
      ]
     },
     "execution_count": 53,
     "metadata": {},
     "output_type": "execute_result"
    }
   ],
   "source": [
    "model.evaluate(val_images, val_labels)"
   ]
  },
  {
   "cell_type": "markdown",
   "id": "5c287e2a",
   "metadata": {},
   "source": [
    "## 사용자 정의 콜백 만들기"
   ]
  },
  {
   "cell_type": "markdown",
   "id": "30341014",
   "metadata": {},
   "source": [
    "에포크 시작/끝날 때 호출  \n",
    "on_epoch_begin(epoch, logs)  \n",
    "on_epoch_end(epoch, logs)  \n",
    "  \n",
    "각 배치 처리가 시작하기 전/끝난 후 호출  \n",
    "on_batch_begin(batch, logs)  \n",
    "on_batch_end(batch, logs)  \n",
    "  \n",
    "훈련이 시작/끝날 때 호출  \n",
    "on_train_begin(logs)  \n",
    "on_train_end(logs)"
   ]
  },
  {
   "cell_type": "code",
   "execution_count": 56,
   "id": "c23d12e2",
   "metadata": {},
   "outputs": [],
   "source": [
    "# Callback 클래스를 상속하여 사용자 정의 콜백 만들기\n",
    "\n",
    "from matplotlib import pyplot as plt\n",
    "\n",
    "class LossHistory(keras.callbacks.Callback):\n",
    "    def on_train_begin(self, logs):\n",
    "        self.per_batch_losses = []\n",
    "\n",
    "    def on_batch_end(self, batch, logs):\n",
    "        self.per_batch_losses.append(logs.get(\"loss\"))\n",
    "\n",
    "    def on_epoch_end(self, epoch, logs):\n",
    "        plt.clf()\n",
    "        plt.plot(range(len(self.per_batch_losses)), self.per_batch_losses,\n",
    "                 label=\"Training loss for each batch\")\n",
    "        plt.xlabel(f\"Batch (epoch {epoch})\")\n",
    "        plt.ylabel(\"Loss\")\n",
    "        plt.legend()\n",
    "        plt.savefig(f\"plot_at_epoch_{epoch}\")\n",
    "        self.per_batch_losses = []"
   ]
  },
  {
   "cell_type": "code",
   "execution_count": 57,
   "id": "69a6959d",
   "metadata": {},
   "outputs": [
    {
     "name": "stdout",
     "output_type": "stream",
     "text": [
      "Epoch 1/10\n",
      "1563/1563 [==============================] - 11s 7ms/step - loss: 0.2901 - accuracy: 0.9136 - val_loss: 0.1467 - val_accuracy: 0.9575\n",
      "Epoch 2/10\n",
      "1563/1563 [==============================] - 10s 6ms/step - loss: 0.1676 - accuracy: 0.9523 - val_loss: 0.1268 - val_accuracy: 0.9655\n",
      "Epoch 3/10\n",
      "1563/1563 [==============================] - 10s 7ms/step - loss: 0.1389 - accuracy: 0.9626 - val_loss: 0.1081 - val_accuracy: 0.9731\n",
      "Epoch 4/10\n",
      "1563/1563 [==============================] - 10s 7ms/step - loss: 0.1290 - accuracy: 0.9658 - val_loss: 0.1114 - val_accuracy: 0.9725\n",
      "Epoch 5/10\n",
      "1563/1563 [==============================] - 10s 6ms/step - loss: 0.1182 - accuracy: 0.9705 - val_loss: 0.1085 - val_accuracy: 0.9754\n",
      "Epoch 6/10\n",
      "1563/1563 [==============================] - 10s 6ms/step - loss: 0.1126 - accuracy: 0.9737 - val_loss: 0.1158 - val_accuracy: 0.9732\n",
      "Epoch 7/10\n",
      "1563/1563 [==============================] - 10s 7ms/step - loss: 0.1079 - accuracy: 0.9742 - val_loss: 0.1205 - val_accuracy: 0.9752\n",
      "Epoch 8/10\n",
      "1563/1563 [==============================] - 10s 7ms/step - loss: 0.1056 - accuracy: 0.9756 - val_loss: 0.1085 - val_accuracy: 0.9772\n",
      "Epoch 9/10\n",
      "1563/1563 [==============================] - 10s 7ms/step - loss: 0.0991 - accuracy: 0.9776 - val_loss: 0.1081 - val_accuracy: 0.9785\n",
      "Epoch 10/10\n",
      "1563/1563 [==============================] - 11s 7ms/step - loss: 0.0957 - accuracy: 0.9787 - val_loss: 0.1209 - val_accuracy: 0.9780\n"
     ]
    },
    {
     "data": {
      "text/plain": [
       "<keras.callbacks.History at 0x794a0b572f10>"
      ]
     },
     "execution_count": 57,
     "metadata": {},
     "output_type": "execute_result"
    },
    {
     "data": {
      "image/png": "[encoded data removed]",
      "text/plain": [
       "<Figure size 432x288 with 1 Axes>"
      ]
     },
     "metadata": {
      "needs_background": "light"
     },
     "output_type": "display_data"
    }
   ],
   "source": [
    "model = get_mnist_model()\n",
    "model.compile(optimizer=\"rmsprop\",\n",
    "              loss=\"sparse_categorical_crossentropy\",\n",
    "              metrics=[\"accuracy\"])\n",
    "model.fit(train_images, train_labels,\n",
    "          epochs=10,\n",
    "          callbacks=[LossHistory()],\n",
    "          validation_data=(val_images, val_labels))"
   ]
  },
  {
   "cell_type": "markdown",
   "id": "b909b4dd",
   "metadata": {},
   "source": [
    "## 텐서보드를 사용한 모니터링과 시각화"
   ]
  },
  {
   "cell_type": "code",
   "execution_count": 58,
   "id": "a8122099",
   "metadata": {},
   "outputs": [
    {
     "name": "stdout",
     "output_type": "stream",
     "text": [
      "Epoch 1/10\n",
      "1563/1563 [==============================] - 11s 7ms/step - loss: 0.2926 - accuracy: 0.9141 - val_loss: 0.1502 - val_accuracy: 0.9561\n",
      "Epoch 2/10\n",
      "1563/1563 [==============================] - 10s 6ms/step - loss: 0.1622 - accuracy: 0.9545 - val_loss: 0.1212 - val_accuracy: 0.9650\n",
      "Epoch 3/10\n",
      "1563/1563 [==============================] - 10s 6ms/step - loss: 0.1372 - accuracy: 0.9629 - val_loss: 0.1093 - val_accuracy: 0.9721\n",
      "Epoch 4/10\n",
      "1563/1563 [==============================] - 10s 6ms/step - loss: 0.1241 - accuracy: 0.9672 - val_loss: 0.1068 - val_accuracy: 0.9745\n",
      "Epoch 5/10\n",
      "1563/1563 [==============================] - 10s 6ms/step - loss: 0.1172 - accuracy: 0.9707 - val_loss: 0.1080 - val_accuracy: 0.9760\n",
      "Epoch 6/10\n",
      "1563/1563 [==============================] - 10s 7ms/step - loss: 0.1093 - accuracy: 0.9735 - val_loss: 0.1123 - val_accuracy: 0.9739\n",
      "Epoch 7/10\n",
      "1563/1563 [==============================] - 10s 6ms/step - loss: 0.1017 - accuracy: 0.9754 - val_loss: 0.1042 - val_accuracy: 0.9784\n",
      "Epoch 8/10\n",
      "1563/1563 [==============================] - 10s 6ms/step - loss: 0.1025 - accuracy: 0.9760 - val_loss: 0.1074 - val_accuracy: 0.9778\n",
      "Epoch 9/10\n",
      "1563/1563 [==============================] - 10s 6ms/step - loss: 0.0976 - accuracy: 0.9771 - val_loss: 0.1193 - val_accuracy: 0.9776\n",
      "Epoch 10/10\n",
      "1563/1563 [==============================] - 10s 7ms/step - loss: 0.0979 - accuracy: 0.9779 - val_loss: 0.1093 - val_accuracy: 0.9785\n"
     ]
    },
    {
     "data": {
      "text/plain": [
       "<keras.callbacks.History at 0x7949e2337760>"
      ]
     },
     "execution_count": 58,
     "metadata": {},
     "output_type": "execute_result"
    }
   ],
   "source": [
    "model = get_mnist_model()\n",
    "model.compile(optimizer=\"rmsprop\",\n",
    "              loss=\"sparse_categorical_crossentropy\",\n",
    "              metrics=[\"accuracy\"])\n",
    "\n",
    "tensorboard = keras.callbacks.TensorBoard(\n",
    "    log_dir=\"./tb_logs\",\n",
    ")\n",
    "model.fit(train_images, train_labels,\n",
    "          epochs=10,\n",
    "          validation_data=(val_images, val_labels),\n",
    "          callbacks=[tensorboard])"
   ]
  },
  {
   "cell_type": "code",
   "execution_count": 59,
   "id": "1b932d54",
   "metadata": {
    "collapsed": true
   },
   "outputs": [
    {
     "data": {
      "text/html": [
       "\n",
       "      <iframe id=\"tensorboard-frame-88cecbd7aa05abdf\" width=\"100%\" height=\"800\" frameborder=\"0\">\n",
       "      </iframe>\n",
       "      <script>\n",
       "        (function() {\n",
       "          const frame = document.getElementById(\"tensorboard-frame-88cecbd7aa05abdf\");\n",
       "          const url = new URL(\"/\", window.location);\n",
       "          const port = 6006;\n",
       "          if (port) {\n",
       "            url.port = port;\n",
       "          }\n",
       "          frame.src = url;\n",
       "        })();\n",
       "      </script>\n",
       "    "
      ],
      "text/plain": [
       "<IPython.core.display.HTML object>"
      ]
     },
     "metadata": {},
     "output_type": "display_data"
    }
   ],
   "source": [
    "%load_ext tensorboard\n",
    "%tensorboard --logdir ./tb_logs"
   ]
  },
  {
   "cell_type": "markdown",
   "id": "80c21b33",
   "metadata": {},
   "source": [
    "# <조별특별미션> 사용자 정의 훈련, 평가 루프 만들기 "
   ]
  },
  {
   "cell_type": "code",
   "execution_count": 60,
   "id": "fd9bb438",
   "metadata": {},
   "outputs": [
    {
     "name": "stdout",
     "output_type": "stream",
     "text": [
      "결과: 1.00\n"
     ]
    }
   ],
   "source": [
    "# 측정 지표의 저수준 사용법\n",
    "\n",
    "metric = keras.metrics.SparseCategoricalAccuracy()\n",
    "targets = [0, 1, 2]\n",
    "predictions = [[1, 0, 0], [0, 1, 0], [0, 0, 1]]\n",
    "metric.update_state(targets, predictions)\n",
    "current_result = metric.result()\n",
    "print(f\"결과: {current_result:.2f}\")"
   ]
  },
  {
   "cell_type": "code",
   "execution_count": 61,
   "id": "24563a46",
   "metadata": {},
   "outputs": [
    {
     "name": "stdout",
     "output_type": "stream",
     "text": [
      "평균 지표: 2.00\n"
     ]
    }
   ],
   "source": [
    "values = [0, 1, 2, 3, 4]\n",
    "mean_tracker = keras.metrics.Mean()\n",
    "for value in values:\n",
    "    mean_tracker.update_state(value)\n",
    "print(f\"평균 지표: {mean_tracker.result():.2f}\")"
   ]
  },
  {
   "cell_type": "code",
   "execution_count": 62,
   "id": "4ee3061c",
   "metadata": {},
   "outputs": [],
   "source": [
    "# 코드 7-21. 단계별 훈련 루프 작성하기: 훈련 스텝 함수\n",
    "\n",
    "model = get_mnist_model()\n",
    "\n",
    "loss_fn = keras.losses.SparseCategoricalCrossentropy()\n",
    "optimizer = keras.optimizers.RMSprop()\n",
    "metrics = [keras.metrics.SparseCategoricalAccuracy()]\n",
    "loss_tracking_metric = keras.metrics.Mean()\n",
    "\n",
    "# fit() 함수 구현\n",
    "def train_step(inputs, targets):\n",
    "    with tf.GradientTape() as tape:\n",
    "        predictions = model(inputs, training=True)\n",
    "        loss = loss_fn(targets, predictions)\n",
    "    gradients = tape.gradient(loss, model.trainable_weights)\n",
    "    optimizer.apply_gradients(zip(gradients, model.trainable_weights))\n",
    "\n",
    "    logs = {}\n",
    "    for metric in metrics:\n",
    "        metric.update_state(targets, predictions)\n",
    "        logs[metric.name] = metric.result()\n",
    "\n",
    "    loss_tracking_metric.update_state(loss)\n",
    "    logs[\"loss\"] = loss_tracking_metric.result()\n",
    "    return logs"
   ]
  },
  {
   "cell_type": "code",
   "execution_count": 63,
   "id": "e1b06248",
   "metadata": {},
   "outputs": [],
   "source": [
    "def reset_metrics():\n",
    "    for metric in metrics:\n",
    "        metric.reset_state()\n",
    "    loss_tracking_metric.reset_state()"
   ]
  },
  {
   "cell_type": "code",
   "execution_count": 64,
   "id": "2c7d5b82",
   "metadata": {},
   "outputs": [
    {
     "name": "stdout",
     "output_type": "stream",
     "text": [
      "0번째 에포크 결과\n",
      "...sparse_categorical_accuracy: 0.9158\n",
      "...loss: 0.2901\n",
      "1번째 에포크 결과\n",
      "...sparse_categorical_accuracy: 0.9525\n",
      "...loss: 0.1683\n",
      "2번째 에포크 결과\n",
      "...sparse_categorical_accuracy: 0.9620\n",
      "...loss: 0.1391\n"
     ]
    }
   ],
   "source": [
    "# 코드 7-23. 단계별 훈련 루프 작성하기: 훈련 루프 자체\n",
    "\n",
    "training_dataset = tf.data.Dataset.from_tensor_slices((train_images, train_labels))\n",
    "training_dataset = training_dataset.batch(32)\n",
    "epochs = 3\n",
    "for epoch in range(epochs):\n",
    "    reset_metrics()\n",
    "    for inputs_batch, targets_batch in training_dataset:\n",
    "        logs = train_step(inputs_batch, targets_batch)\n",
    "    print(f\"{epoch}번째 에포크 결과\")\n",
    "    for key, value in logs.items():\n",
    "        print(f\"...{key}: {value:.4f}\")"
   ]
  },
  {
   "cell_type": "code",
   "execution_count": 65,
   "id": "c7f710ea",
   "metadata": {},
   "outputs": [
    {
     "name": "stdout",
     "output_type": "stream",
     "text": [
      "평가 결과:\n",
      "...val_sparse_categorical_accuracy: 0.9678\n",
      "...val_loss: 0.1248\n"
     ]
    }
   ],
   "source": [
    "# tf.function으로 성능 높이기\n",
    "# 평가 스텝 함수에 @tf.function 데코레이터 추가하기\n",
    "# 텐서플로 코드는 기본적으로 즉시 실행(eager excution) 단위로 코드가 실행되서 성능 측면에서 최적이 아님\n",
    "# 데코레이터 추가하여 계산 그래프(computation graph)로 컴파일 하여 전역적인 최적화 가능\n",
    "\n",
    "# evaluate() 함수 구현\n",
    "@tf.function\n",
    "def test_step(inputs, targets):\n",
    "    predictions = model(inputs, training=False)\n",
    "    loss = loss_fn(targets, predictions)\n",
    "\n",
    "    logs = {}\n",
    "    for metric in metrics:\n",
    "        metric.update_state(targets, predictions)\n",
    "        logs[\"val_\" + metric.name] = metric.result()\n",
    "\n",
    "    loss_tracking_metric.update_state(loss)\n",
    "    logs[\"val_loss\"] = loss_tracking_metric.result()\n",
    "    return logs\n",
    "\n",
    "val_dataset = tf.data.Dataset.from_tensor_slices((val_images, val_labels))\n",
    "val_dataset = val_dataset.batch(32)\n",
    "reset_metrics()\n",
    "for inputs_batch, targets_batch in val_dataset:\n",
    "    logs = test_step(inputs_batch, targets_batch)\n",
    "print(\"평가 결과:\")\n",
    "for key, value in logs.items():\n",
    "    print(f\"...{key}: {value:.4f}\")"
   ]
  },
  {
   "cell_type": "markdown",
   "id": "77c4a8c3",
   "metadata": {},
   "source": [
    "## fit() 메서드를 사용자 정의 루프로 활용하기"
   ]
  },
  {
   "cell_type": "code",
   "execution_count": 66,
   "id": "47e21f1d",
   "metadata": {},
   "outputs": [],
   "source": [
    "# fit()이 사용할 사용자 정의 훈련 스텝 구현하기\n",
    "\n",
    "loss_fn = keras.losses.SparseCategoricalCrossentropy()\n",
    "loss_tracker = keras.metrics.Mean(name=\"loss\")\n",
    "\n",
    "class CustomModel(keras.Model):\n",
    "    def train_step(self, data):\n",
    "        inputs, targets = data\n",
    "        with tf.GradientTape() as tape:\n",
    "            predictions = self(inputs, training=True)\n",
    "            loss = loss_fn(targets, predictions)\n",
    "        gradients = tape.gradient(loss, self.trainable_weights)\n",
    "        self.optimizer.apply_gradients(zip(gradients, self.trainable_weights))\n",
    "\n",
    "        loss_tracker.update_state(loss)\n",
    "        return {\"loss\": loss_tracker.result()}\n",
    "\n",
    "    @property\n",
    "    def metrics(self):\n",
    "        return [loss_tracker]"
   ]
  },
  {
   "cell_type": "code",
   "execution_count": 67,
   "id": "9f946924",
   "metadata": {},
   "outputs": [
    {
     "name": "stdout",
     "output_type": "stream",
     "text": [
      "Epoch 1/3\n",
      "1563/1563 [==============================] - 10s 6ms/step - loss: 0.2933\n",
      "Epoch 2/3\n",
      "1563/1563 [==============================] - 9s 6ms/step - loss: 0.1646\n",
      "Epoch 3/3\n",
      "1563/1563 [==============================] - 10s 6ms/step - loss: 0.1391\n"
     ]
    },
    {
     "data": {
      "text/plain": [
       "<keras.callbacks.History at 0x794a0ffaa4c0>"
      ]
     },
     "execution_count": 67,
     "metadata": {},
     "output_type": "execute_result"
    }
   ],
   "source": [
    "inputs = keras.Input(shape=(28 * 28,))\n",
    "features = layers.Dense(512, activation=\"relu\")(inputs)\n",
    "features = layers.Dropout(0.5)(features)\n",
    "outputs = layers.Dense(10, activation=\"softmax\")(features)\n",
    "model = CustomModel(inputs, outputs)\n",
    "\n",
    "model.compile(optimizer=keras.optimizers.RMSprop())\n",
    "model.fit(train_images, train_labels, epochs=3)"
   ]
  },
  {
   "cell_type": "code",
   "execution_count": 68,
   "id": "cab2e01b",
   "metadata": {},
   "outputs": [],
   "source": [
    "class CustomModel(keras.Model):\n",
    "    def train_step(self, data):\n",
    "        inputs, targets = data\n",
    "        with tf.GradientTape() as tape:\n",
    "            predictions = self(inputs, training=True)\n",
    "            loss = self.compiled_loss(targets, predictions)\n",
    "        gradients = tape.gradient(loss, self.trainable_weights)\n",
    "        self.optimizer.apply_gradients(zip(gradients, self.trainable_weights))\n",
    "        \n",
    "        self.compiled_metrics.update_state(targets, predictions)\n",
    "        return {m.name: m.result() for m in self.metrics}"
   ]
  },
  {
   "cell_type": "code",
   "execution_count": 69,
   "id": "e85d1798",
   "metadata": {},
   "outputs": [
    {
     "name": "stdout",
     "output_type": "stream",
     "text": [
      "Epoch 1/3\n",
      "1563/1563 [==============================] - 10s 6ms/step - loss: 0.2931 - sparse_categorical_accuracy: 0.9121\n",
      "Epoch 2/3\n",
      "1563/1563 [==============================] - 10s 6ms/step - loss: 0.1649 - sparse_categorical_accuracy: 0.9532\n",
      "Epoch 3/3\n",
      "1563/1563 [==============================] - 9s 6ms/step - loss: 0.1393 - sparse_categorical_accuracy: 0.9625\n"
     ]
    },
    {
     "data": {
      "text/plain": [
       "<keras.callbacks.History at 0x794a0feae370>"
      ]
     },
     "execution_count": 69,
     "metadata": {},
     "output_type": "execute_result"
    }
   ],
   "source": [
    "inputs = keras.Input(shape=(28 * 28,))\n",
    "features = layers.Dense(512, activation=\"relu\")(inputs)\n",
    "features = layers.Dropout(0.5)(features)\n",
    "outputs = layers.Dense(10, activation=\"softmax\")(features)\n",
    "model = CustomModel(inputs, outputs)\n",
    "\n",
    "model.compile(optimizer=keras.optimizers.RMSprop(),\n",
    "              loss=keras.losses.SparseCategoricalCrossentropy(),\n",
    "              metrics=[keras.metrics.SparseCategoricalAccuracy()])\n",
    "model.fit(train_images, train_labels, epochs=3)"
   ]
  },
  {
   "cell_type": "code",
   "execution_count": 70,
   "id": "0abc8987",
   "metadata": {},
   "outputs": [
    {
     "data": {
      "image/png": "[encoded data removed]",
      "text/plain": [
       "<IPython.core.display.Image object>"
      ]
     },
     "execution_count": 70,
     "metadata": {},
     "output_type": "execute_result"
    }
   ],
   "source": [
    "keras.utils.plot_model(model, show_shapes=True)"
   ]
  },
  {
   "cell_type": "markdown",
   "id": "b6012634",
   "metadata": {},
   "source": [
    "# 플레이그라운드\n",
    "## - (6조 M2 공유) Image Data :Layer의 구성이 달라지는 경우 2\n",
    "* 레이어 깊이에 변화가 있는 경우\n",
    "* Conv-maxpool을 한번 반복하는 경우 // Conv-maxpool을 여러 번 반복하는 경우\n",
    "\n",
    "---"
   ]
  },
  {
   "cell_type": "code",
   "execution_count": null,
   "id": "316cd8dd",
   "metadata": {},
   "outputs": [],
   "source": [
    "# Conv-MaxPool 1번 반복\n",
    "\n",
    "import datetime\n",
    "import tensorflow as tf\n",
    "from tensorflow.keras import datasets, layers, models\n",
    "import matplotlib.pyplot as plt\n",
    "\n",
    "# Fashion MNIST 데이터셋 로드\n",
    "(train_images, train_labels), (test_images, test_labels) = datasets.fashion_mnist.load_data()\n",
    "\n",
    "# 데이터 전처리\n",
    "train_images = train_images.reshape((train_images.shape[0], 28, 28, 1))\n",
    "test_images = test_images.reshape((test_images.shape[0], 28, 28, 1))\n",
    "\n",
    "# 픽셀 값을 0-1 사이로 정규화\n",
    "train_images, test_images = train_images / 255.0, test_images / 255.0\n",
    "\n",
    "# CNN 모델 생성\n",
    "model = models.Sequential([\n",
    "    layers.Conv2D(32, (3, 3), activation='relu', input_shape=(28, 28, 1)),\n",
    "    layers.MaxPooling2D((2, 2)),\n",
    "    layers.Flatten(),\n",
    "    layers.Dense(128, activation='relu'),\n",
    "    layers.Dense(10, activation='softmax')\n",
    "])\n",
    "\n",
    "#early_stop = tf.keras.callbacks.EarlyStopping(monitor='val_loss', patience=2)\n",
    "\n",
    "# 모델 컴파일\n",
    "model.compile(optimizer='adam',\n",
    "              loss='sparse_categorical_crossentropy',\n",
    "              metrics=['accuracy'])\n",
    "\n",
    "# 모델 학습\n",
    "start = datetime.datetime.now()\n",
    "history = model.fit(train_images, train_labels, epochs=10, \n",
    "                    validation_data=(test_images, test_labels))#, callbacks=[early_stop])\n",
    "end = datetime.datetime.now()\n",
    "training_time = end - start\n",
    "\n",
    "# 학습 결과 시각화\n",
    "plt.figure(figsize=(12, 4))\n",
    "\n",
    "plt.subplot(1, 2, 1)\n",
    "plt.plot(history.history['accuracy'], label='accuracy')\n",
    "plt.plot(history.history['val_accuracy'], label = 'val_accuracy')\n",
    "plt.xlabel('Epoch')\n",
    "plt.ylabel('Accuracy')\n",
    "plt.ylim([0, 1])\n",
    "plt.legend(loc='lower right')\n",
    "plt.title('Model Accuracy')\n",
    "\n",
    "plt.subplot(1, 2, 2)\n",
    "plt.plot(history.history['loss'], label='loss')\n",
    "plt.plot(history.history['val_loss'], label = 'val_loss')\n",
    "plt.xlabel('Epoch')\n",
    "plt.ylabel('Loss')\n",
    "plt.ylim([0, max(max(history.history['loss']), max(history.history['val_loss']))])\n",
    "plt.legend(loc='upper right')\n",
    "plt.title('Model Loss')\n",
    "\n",
    "plt.show()\n",
    "\n",
    "# 모델 평가\n",
    "test_loss, test_acc = model.evaluate(test_images, test_labels, verbose=2)\n",
    "print(f'\\nTest accuracy: {test_acc}')\n",
    "print(f'학습 시간 : {training_time}')"
   ]
  },
  {
   "cell_type": "code",
   "execution_count": 3,
   "id": "8cb055c8",
   "metadata": {},
   "outputs": [
    {
     "name": "stdout",
     "output_type": "stream",
     "text": [
      "Epoch 1/10\n",
      "1875/1875 [==============================] - 66s 35ms/step - loss: 0.4528 - accuracy: 0.8353 - val_loss: 0.3495 - val_accuracy: 0.8706\n",
      "Epoch 2/10\n",
      "1875/1875 [==============================] - 65s 35ms/step - loss: 0.2983 - accuracy: 0.8910 - val_loss: 0.3356 - val_accuracy: 0.8755\n",
      "Epoch 3/10\n",
      "1875/1875 [==============================] - 66s 35ms/step - loss: 0.2559 - accuracy: 0.9052 - val_loss: 0.2808 - val_accuracy: 0.8965\n",
      "Epoch 4/10\n",
      "1875/1875 [==============================] - 65s 35ms/step - loss: 0.2206 - accuracy: 0.9178 - val_loss: 0.2707 - val_accuracy: 0.9021\n",
      "Epoch 5/10\n",
      "1875/1875 [==============================] - 65s 35ms/step - loss: 0.1945 - accuracy: 0.9274 - val_loss: 0.2660 - val_accuracy: 0.9036\n",
      "Epoch 6/10\n",
      "1875/1875 [==============================] - 65s 34ms/step - loss: 0.1736 - accuracy: 0.9349 - val_loss: 0.2810 - val_accuracy: 0.8988\n",
      "Epoch 7/10\n",
      "1875/1875 [==============================] - 65s 35ms/step - loss: 0.1548 - accuracy: 0.9423 - val_loss: 0.2749 - val_accuracy: 0.9043\n",
      "Epoch 8/10\n",
      "1875/1875 [==============================] - 65s 34ms/step - loss: 0.1363 - accuracy: 0.9483 - val_loss: 0.2641 - val_accuracy: 0.9108\n",
      "Epoch 9/10\n",
      "1875/1875 [==============================] - 65s 35ms/step - loss: 0.1214 - accuracy: 0.9538 - val_loss: 0.2935 - val_accuracy: 0.9110\n",
      "Epoch 10/10\n",
      "1875/1875 [==============================] - 65s 34ms/step - loss: 0.1072 - accuracy: 0.9594 - val_loss: 0.2851 - val_accuracy: 0.9089\n"
     ]
    },
    {
     "data": {
      "image/png": "[encoded data removed]",
      "text/plain": [
       "<Figure size 864x288 with 2 Axes>"
      ]
     },
     "metadata": {
      "needs_background": "light"
     },
     "output_type": "display_data"
    },
    {
     "name": "stdout",
     "output_type": "stream",
     "text": [
      "313/313 - 3s - loss: 0.2851 - accuracy: 0.9089\n",
      "\n",
      "Test accuracy: 0.9089000225067139\n",
      "학습 시간 : 0:11:22.687051\n"
     ]
    }
   ],
   "source": [
    "# Conv-MaxPool 2번 반복\n",
    "\n",
    "import datetime\n",
    "import tensorflow as tf\n",
    "from tensorflow.keras import datasets, layers, models\n",
    "import matplotlib.pyplot as plt\n",
    "\n",
    "# Fashion MNIST 데이터셋 로드\n",
    "(train_images, train_labels), (test_images, test_labels) = datasets.fashion_mnist.load_data()\n",
    "\n",
    "# 데이터 전처리\n",
    "train_images = train_images.reshape((train_images.shape[0], 28, 28, 1))\n",
    "test_images = test_images.reshape((test_images.shape[0], 28, 28, 1))\n",
    "\n",
    "# 픽셀 값을 0-1 사이로 정규화\n",
    "train_images, test_images = train_images / 255.0, test_images / 255.0\n",
    "\n",
    "# CNN 모델 생성\n",
    "model = models.Sequential([\n",
    "    layers.Conv2D(32, (3, 3), activation='relu', input_shape=(28, 28, 1)),\n",
    "    layers.MaxPooling2D((2, 2)),\n",
    "    layers.Conv2D(64, (3, 3), activation='relu'),\n",
    "    layers.MaxPooling2D((2, 2)),\n",
    "    layers.Flatten(),\n",
    "    layers.Dense(128, activation='relu'),\n",
    "    layers.Dense(10, activation='softmax')\n",
    "])\n",
    "\n",
    "#early_stop = tf.keras.callbacks.EarlyStopping(monitor='val_loss', patience=2)\n",
    "\n",
    "# 모델 컴파일\n",
    "model.compile(optimizer='adam',\n",
    "              loss='sparse_categorical_crossentropy',\n",
    "              metrics=['accuracy'])\n",
    "\n",
    "# 모델 학습\n",
    "start = datetime.datetime.now()\n",
    "history = model.fit(train_images, train_labels, epochs=10, \n",
    "                    validation_data=(test_images, test_labels))#, callbacks=[early_stop])\n",
    "end = datetime.datetime.now()\n",
    "training_time = end - start\n",
    "\n",
    "# 학습 결과 시각화\n",
    "plt.figure(figsize=(12, 4))\n",
    "\n",
    "plt.subplot(1, 2, 1)\n",
    "plt.plot(history.history['accuracy'], label='accuracy')\n",
    "plt.plot(history.history['val_accuracy'], label = 'val_accuracy')\n",
    "plt.xlabel('Epoch')\n",
    "plt.ylabel('Accuracy')\n",
    "plt.ylim([0, 1])\n",
    "plt.legend(loc='lower right')\n",
    "plt.title('Model Accuracy')\n",
    "\n",
    "plt.subplot(1, 2, 2)\n",
    "plt.plot(history.history['loss'], label='loss')\n",
    "plt.plot(history.history['val_loss'], label = 'val_loss')\n",
    "plt.xlabel('Epoch')\n",
    "plt.ylabel('Loss')\n",
    "plt.ylim([0, max(max(history.history['loss']), max(history.history['val_loss']))])\n",
    "plt.legend(loc='upper right')\n",
    "plt.title('Model Loss')\n",
    "\n",
    "plt.show()\n",
    "\n",
    "# 모델 평가\n",
    "test_loss, test_acc = model.evaluate(test_images, test_labels, verbose=2)\n",
    "print(f'\\nTest accuracy: {test_acc}')\n",
    "print(f'학습 시간 : {training_time}')"
   ]
  },
  {
   "cell_type": "code",
   "execution_count": 1,
   "id": "ba8b2c92",
   "metadata": {},
   "outputs": [
    {
     "name": "stdout",
     "output_type": "stream",
     "text": [
      "Epoch 1/10\n",
      "1875/1875 [==============================] - 72s 38ms/step - loss: 0.5801 - accuracy: 0.7865 - val_loss: 0.4548 - val_accuracy: 0.8365\n",
      "Epoch 2/10\n",
      "1875/1875 [==============================] - 70s 38ms/step - loss: 0.3847 - accuracy: 0.8589 - val_loss: 0.3811 - val_accuracy: 0.8626\n",
      "Epoch 3/10\n",
      "1875/1875 [==============================] - 70s 37ms/step - loss: 0.3280 - accuracy: 0.8785 - val_loss: 0.3478 - val_accuracy: 0.8702\n",
      "Epoch 4/10\n",
      "1875/1875 [==============================] - 70s 37ms/step - loss: 0.2919 - accuracy: 0.8917 - val_loss: 0.3195 - val_accuracy: 0.8838\n",
      "Epoch 5/10\n",
      "1875/1875 [==============================] - 70s 37ms/step - loss: 0.2604 - accuracy: 0.9033 - val_loss: 0.3137 - val_accuracy: 0.8857\n",
      "Epoch 6/10\n",
      "1875/1875 [==============================] - 70s 37ms/step - loss: 0.2389 - accuracy: 0.9108 - val_loss: 0.3224 - val_accuracy: 0.8856\n",
      "Epoch 7/10\n",
      "1875/1875 [==============================] - 69s 37ms/step - loss: 0.2166 - accuracy: 0.9184 - val_loss: 0.3291 - val_accuracy: 0.8898\n",
      "Epoch 8/10\n",
      "1875/1875 [==============================] - 69s 37ms/step - loss: 0.1991 - accuracy: 0.9244 - val_loss: 0.3098 - val_accuracy: 0.8899\n",
      "Epoch 9/10\n",
      "1875/1875 [==============================] - 70s 37ms/step - loss: 0.1874 - accuracy: 0.9291 - val_loss: 0.3249 - val_accuracy: 0.8915\n",
      "Epoch 10/10\n",
      "1875/1875 [==============================] - 70s 37ms/step - loss: 0.1717 - accuracy: 0.9351 - val_loss: 0.3227 - val_accuracy: 0.8915\n"
     ]
    },
    {
     "data": {
      "image/png": "[encoded data removed]",
      "text/plain": [
       "<Figure size 864x288 with 2 Axes>"
      ]
     },
     "metadata": {
      "needs_background": "light"
     },
     "output_type": "display_data"
    },
    {
     "name": "stdout",
     "output_type": "stream",
     "text": [
      "313/313 - 3s - loss: 0.3227 - accuracy: 0.8915\n",
      "\n",
      "Test accuracy: 0.8914999961853027\n",
      "학습 시간 : 0:11:40.626427\n"
     ]
    }
   ],
   "source": [
    "# Conv-MaxPool 3번 반복\n",
    "\n",
    "import datetime\n",
    "import tensorflow as tf\n",
    "from tensorflow.keras import datasets, layers, models\n",
    "import matplotlib.pyplot as plt\n",
    "\n",
    "# Fashion MNIST 데이터셋 로드\n",
    "(train_images, train_labels), (test_images, test_labels) = datasets.fashion_mnist.load_data()\n",
    "\n",
    "# 데이터 전처리\n",
    "train_images = train_images.reshape((train_images.shape[0], 28, 28, 1))\n",
    "test_images = test_images.reshape((test_images.shape[0], 28, 28, 1))\n",
    "\n",
    "# 픽셀 값을 0-1 사이로 정규화\n",
    "train_images, test_images = train_images / 255.0, test_images / 255.0\n",
    "\n",
    "# CNN 모델 생성\n",
    "model = models.Sequential([\n",
    "    layers.Conv2D(32, (3, 3), activation='relu', input_shape=(28, 28, 1)),\n",
    "    layers.MaxPooling2D((2, 2)),\n",
    "    layers.Conv2D(64, (3, 3), activation='relu'),\n",
    "    layers.MaxPooling2D((2, 2)),\n",
    "    layers.Conv2D(128, (3, 3), activation='relu'),\n",
    "    layers.MaxPooling2D((2, 2)),\n",
    "    layers.Flatten(),\n",
    "    layers.Dense(128, activation='relu'),\n",
    "    layers.Dense(10, activation='softmax')\n",
    "])\n",
    "\n",
    "#early_stop = tf.keras.callbacks.EarlyStopping(monitor='val_loss', patience=2)\n",
    "\n",
    "# 모델 컴파일\n",
    "model.compile(optimizer='adam',\n",
    "              loss='sparse_categorical_crossentropy',\n",
    "              metrics=['accuracy'])\n",
    "\n",
    "# 모델 학습\n",
    "start = datetime.datetime.now()\n",
    "history = model.fit(train_images, train_labels, epochs=10, \n",
    "                    validation_data=(test_images, test_labels))#, callbacks=[early_stop])\n",
    "end = datetime.datetime.now()\n",
    "training_time = end - start\n",
    "\n",
    "# 학습 결과 시각화\n",
    "plt.figure(figsize=(12, 4))\n",
    "\n",
    "plt.subplot(1, 2, 1)\n",
    "plt.plot(history.history['accuracy'], label='accuracy')\n",
    "plt.plot(history.history['val_accuracy'], label = 'val_accuracy')\n",
    "plt.xlabel('Epoch')\n",
    "plt.ylabel('Accuracy')\n",
    "plt.ylim([0, 1])\n",
    "plt.legend(loc='lower right')\n",
    "plt.title('Model Accuracy')\n",
    "\n",
    "plt.subplot(1, 2, 2)\n",
    "plt.plot(history.history['loss'], label='loss')\n",
    "plt.plot(history.history['val_loss'], label = 'val_loss')\n",
    "plt.xlabel('Epoch')\n",
    "plt.ylabel('Loss')\n",
    "plt.ylim([0, max(max(history.history['loss']), max(history.history['val_loss']))])\n",
    "plt.legend(loc='upper right')\n",
    "plt.title('Model Loss')\n",
    "\n",
    "plt.show()\n",
    "\n",
    "# 모델 평가\n",
    "test_loss, test_acc = model.evaluate(test_images, test_labels, verbose=2)\n",
    "print(f'\\nTest accuracy: {test_acc}')\n",
    "print(f'학습 시간 : {training_time}')"
   ]
  },
  {
   "cell_type": "markdown",
   "id": "19f356c1",
   "metadata": {},
   "source": [
    "# 회고\n",
    "\n",
    "## 케창딥 7장\n",
    "\n",
    "내가 원하는 모델을 만드려면 결국 Functional API와 서브클래싱 모델의 혼합모델, 사용자 정의 훈련, 평가 루프를 만드는 것이 필수가 될 것 같다.  \n",
    "\n",
    "원하는 모델 구조를 그리고 훈련, 평가 루프를 구현하는 연습을 해야겠다.  \n",
    "\n",
    " * 추가 공부할 내용\n",
    "   - clas MyModel(keras.Model): 구현 연습  \n",
    "   - 유용한 decorator 공부\n",
    "\n",
    "\n",
    "## 플레이 그라운드\n",
    "\n",
    "실험 전 가정한 시나리오는 Conv. Layer가 추가될 수록 성능이 향상되고, 학습 시간이 길어지는 것이었다.\n",
    "\n",
    "하지만 데이터셋이 단순해서 Convolutional Layer를 중첩했을 때 오버피팅만 되고 큰 이점이 없었던 것으로 생각되어 아쉬웠다.\n",
    "\n",
    "처음에 데이터셋 선정과 기본으로 사용한 모델의 구조를 더 신중하게 정했어야 했다.\n",
    "\n",
    "Dropout 등의 오버피팅 방지를 위한 장치가 없었던 것도 validation accuracy의 진전이 없었던 이유인 것 같다.\n",
    "\n",
    "추가 실험으로 조금 더 복잡한 데이터셋으로 Dropout Layer을 추가하여 진행하면 유의미한 결과를 얻을 수 있을 것 같다.\n",
    "\n",
    "Convolutional Layer를 중첩할 때는 필터를 32, 64, 128로 점차 사이즈를 키웠는데 레이어가 깊어질 수 록 필터의 개수가 많아야\n",
    "\n",
    "이미지의 구체적인 부분까지 학습이 가능해서 이런 식으로 레이어를 구성한 다는 것을 새로 알게되었다."
   ]
  },
  {
   "cell_type": "code",
   "execution_count": null,
   "id": "8fd3f02a",
   "metadata": {},
   "outputs": [],
   "source": []
  }
 ],
 "metadata": {
  "kernelspec": {
   "display_name": "Python 3 (ipykernel)",
   "language": "python",
   "name": "python3"
  },
  "language_info": {
   "codemirror_mode": {
    "name": "ipython",
    "version": 3
   },
   "file_extension": ".py",
   "mimetype": "text/x-python",
   "name": "python",
   "nbconvert_exporter": "python",
   "pygments_lexer": "ipython3",
   "version": "3.9.7"
  }
 },
 "nbformat": 4,
 "nbformat_minor": 5
}
